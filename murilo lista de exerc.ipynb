{
  "nbformat": 4,
  "nbformat_minor": 0,
  "metadata": {
    "colab": {
      "provenance": [],
      "authorship_tag": "ABX9TyNQZ1IDpagPmhKbrMRx+MVB",
      "include_colab_link": true
    },
    "kernelspec": {
      "name": "python3",
      "display_name": "Python 3"
    },
    "language_info": {
      "name": "python"
    }
  },
  "cells": [
    {
      "cell_type": "markdown",
      "metadata": {
        "id": "view-in-github",
        "colab_type": "text"
      },
      "source": [
        "<a href=\"https://colab.research.google.com/github/murilomco/ALGESTDADOS_20251/blob/main/murilo%20lista%20de%20exerc.ipynb\" target=\"_parent\"><img src=\"https://colab.research.google.com/assets/colab-badge.svg\" alt=\"Open In Colab\"/></a>"
      ]
    },
    {
      "cell_type": "code",
      "execution_count": 2,
      "metadata": {
        "colab": {
          "base_uri": "https://localhost:8080/"
        },
        "id": "DO3Xw8IB4hWU",
        "outputId": "484ad171-6e73-4337-cb4a-77ded702ae82"
      },
      "outputs": [
        {
          "output_type": "stream",
          "name": "stdout",
          "text": [
            "Digite um número: 51\n",
            "O número não é menor que 50.\n"
          ]
        }
      ],
      "source": [
        "#1. Peça um número ao usuário e verifique se ele é menor que 50. Informe o resultado com uma mensagem.\n",
        "número = int(input(\"Digite um número: \"))\n",
        "if número < 50:\n",
        "    print(\"O número é menor que 50.\")\n",
        "else:\n",
        "    print(\"O número não é menor que 50.\")"
      ]
    },
    {
      "cell_type": "code",
      "source": [
        "#2. Solicite um número ao usuário e informe se ele é divisível por 7. Para isso, utilize uma verificação simples.\n",
        "número = int(input(\"Digite um número: \"))\n",
        "if número % 7 == 0:\n",
        "    print(\"O número é divisível por 7.\")\n",
        "else:\n",
        "    print(\"O número não é divisível por 7.\")"
      ],
      "metadata": {
        "colab": {
          "base_uri": "https://localhost:8080/"
        },
        "id": "3Bvm3gF25QGB",
        "outputId": "53d7f1af-5837-4a74-86a1-f5aad2110ad3"
      },
      "execution_count": 3,
      "outputs": [
        {
          "output_type": "stream",
          "name": "stdout",
          "text": [
            "Digite um número: 14\n",
            "O número é divisível por 7.\n"
          ]
        }
      ]
    },
    {
      "cell_type": "code",
      "source": [
        "#3. Peça um nome ao usuário e verifique se ele contém a letra \"o\". Exiba uma mensagem informando o resultado.\n",
        "nome = input(\"Digite um nome: \")\n",
        "if \"o\" in nome:\n",
        "    print(\"O nome contém a letra 'o'.\")\n",
        "else:\n",
        "    print(\"O nome não contém a letra 'o'.\")"
      ],
      "metadata": {
        "colab": {
          "base_uri": "https://localhost:8080/"
        },
        "id": "l_fV_hCN5dTg",
        "outputId": "ebe2e005-ad3e-4efb-d8d9-e6afc302cd29"
      },
      "execution_count": 4,
      "outputs": [
        {
          "output_type": "stream",
          "name": "stdout",
          "text": [
            "Digite um nome: murilo\n",
            "O nome contém a letra 'o'.\n"
          ]
        }
      ]
    },
    {
      "cell_type": "code",
      "source": [
        "#4. Solicite um número inteiro e verifique se ele termina em 0. Utilize operações matemáticas para essa verificação.\n",
        "número =int (input(\"Digite um número: \"))\n",
        "if número % 10 == 0:\n",
        "    print(\"O número termina em 0.\")\n",
        "else:\n",
        "    print(\"O número não termina em 0.\")"
      ],
      "metadata": {
        "colab": {
          "base_uri": "https://localhost:8080/"
        },
        "id": "mlQLZi9U5qhM",
        "outputId": "86697499-1f55-44bc-b31c-719c5ec229e1"
      },
      "execution_count": 21,
      "outputs": [
        {
          "output_type": "stream",
          "name": "stdout",
          "text": [
            "Digite um número: 5\n",
            "O número não termina em 0.\n"
          ]
        }
      ]
    },
    {
      "cell_type": "code",
      "source": [
        "#5. Peça a idade de uma pessoa e informe se ela tem idade suficiente para votar (considerando 16 anos como idade mínima).\n",
        "idade = int(input(\"Digite a idade da pessoa: \"))\n",
        "if idade >= 16:\n",
        "    print(\"A pessoa tem idade suficiente para votar.\")\n",
        "else:\n",
        "    print(\"A pessoa não tem idade suficiente para votar.\")"
      ],
      "metadata": {
        "colab": {
          "base_uri": "https://localhost:8080/"
        },
        "id": "mnsujQvu54Aq",
        "outputId": "4668593c-8d7e-46f2-8bc7-569f2b155677"
      },
      "execution_count": 22,
      "outputs": [
        {
          "output_type": "stream",
          "name": "stdout",
          "text": [
            "Digite a idade da pessoa: 19\n",
            "A pessoa tem idade suficiente para votar.\n"
          ]
        }
      ]
    },
    {
      "cell_type": "code",
      "source": [
        "#6. Solicite ao usuário que digite um único caractere e informe se ele é uma vogal (a, e, i, o, u).\n",
        "caractere = input(\"Digite um caractere: \")\n",
        "if caractere in \"aeiouAEIOU\":\n",
        "    print(\"O caractere é uma vogal.\")\n",
        "else:\n",
        "    print(\"O caractere não é uma vogal.\")"
      ],
      "metadata": {
        "colab": {
          "base_uri": "https://localhost:8080/"
        },
        "id": "dTx2emgC5-Tp",
        "outputId": "ca31cc65-a723-497f-c210-e3aaa5e57b96"
      },
      "execution_count": 23,
      "outputs": [
        {
          "output_type": "stream",
          "name": "stdout",
          "text": [
            "Digite um caractere: a\n",
            "O caractere é uma vogal.\n"
          ]
        }
      ]
    },
    {
      "cell_type": "code",
      "source": [
        "#7. Peça a temperatura atual em graus Celsius e classifique-a como \"abaixo de zero\", \"entre 0°C e 20°C\" ou \"acima de 20°C\".\n",
        "temperatura = float(input(\"Digite a temperatura em graus Celsius: \"))\n",
        "if temperatura >0 and temperatura <= 20:\n",
        "    print(\"A temperatura está entre 0°C e 20°C.\")\n",
        "elif temperatura < 0:\n",
        "    print(\"A temperatura está abaixo de zero.\")\n",
        "else:\n",
        "    print(\"A temperatura está acima de 20°C.\")\n"
      ],
      "metadata": {
        "colab": {
          "base_uri": "https://localhost:8080/"
        },
        "id": "n-LkubgZ6CD1",
        "outputId": "6ef7d23e-c9d1-4643-cf8e-79926d3f0d42"
      },
      "execution_count": 12,
      "outputs": [
        {
          "output_type": "stream",
          "name": "stdout",
          "text": [
            "Digite a temperatura em graus Celsius: -10\n",
            "A temperatura está abaixo de zero.\n"
          ]
        }
      ]
    },
    {
      "cell_type": "code",
      "source": [
        "#8. Solicite um número e informe se ele é maior que 1000. Exiba uma mensagem apropriada.\n",
        "número = int(input(\"Digite um número: \"))\n",
        "if número > 1000:\n",
        "    print(\"O número é maior que 1000.\")\n",
        "else:\n",
        "    print(\"O número não é maior que 1000.\")"
      ],
      "metadata": {
        "colab": {
          "base_uri": "https://localhost:8080/"
        },
        "id": "gO5Bvr1m7dcB",
        "outputId": "eb44adae-15d1-43b3-b6b7-4140f35431a2"
      },
      "execution_count": 24,
      "outputs": [
        {
          "output_type": "stream",
          "name": "stdout",
          "text": [
            "Digite um número: 19\n",
            "O número não é maior que 1000.\n"
          ]
        }
      ]
    },
    {
      "cell_type": "code",
      "source": [
        "#9. Peça um valor em reais e informe se ele é múltiplo de 50, ou seja, se o valor pode ser pago apenas com notas de R$50,00.\n",
        "valor = float(input(\"Digite um valor em reais: \"))\n",
        "if valor % 50 == 0:\n",
        "    print(\"O valor pode ser pago apenas com notas de R$50,00.\")\n",
        "    print(\"Notas de R$50,00: \", int(valor / 50))\n"
      ],
      "metadata": {
        "colab": {
          "base_uri": "https://localhost:8080/"
        },
        "id": "CcN7MxdM7kZP",
        "outputId": "b14d9409-b29b-4b76-c694-80059cd5141b"
      },
      "execution_count": 13,
      "outputs": [
        {
          "output_type": "stream",
          "name": "stdout",
          "text": [
            "Digite um valor em reais: 150\n",
            "O valor pode ser pago apenas com notas de R$50,00.\n",
            "Notas de R$50,00:  3\n"
          ]
        }
      ]
    },
    {
      "cell_type": "code",
      "source": [
        "#10. Solicite um número ao usuário e verifique se ele está no intervalo entre 100 e 200 (inclusive). Informe o resultado.\n",
        "número = int(input(\"Digite um número: \"))\n",
        "if número >= 100 and número <= 200:\n",
        "    print(\"O número está no intervalo entre 100 e 200.\")\n",
        "    print(\"O número está entre\", 100, \"e\", 200)\n",
        "else:\n",
        "    print(\"O número não está no intervalo entre 100 e 200.\")"
      ],
      "metadata": {
        "colab": {
          "base_uri": "https://localhost:8080/"
        },
        "id": "XSwYwe1v75ek",
        "outputId": "e6528d62-7404-4598-de2c-276c5ac3972c"
      },
      "execution_count": 27,
      "outputs": [
        {
          "output_type": "stream",
          "name": "stdout",
          "text": [
            "Digite um número: 300\n",
            "O número não está no intervalo entre 100 e 200.\n"
          ]
        }
      ]
    },
    {
      "cell_type": "code",
      "source": [
        "#11. Peça a altura de uma árvore em metros e informe se ela tem menos de 5 metros de altura.\n",
        "altura = float(input(\"Digite a altura da árvore em metros: \"))\n",
        "if altura < 5:\n",
        "    print(\"A árvore tem menos de 5 metros de altura.\")\n",
        "else:\n",
        "    print(\"A árvore tem mais de 5 metros de altura.\")"
      ],
      "metadata": {
        "colab": {
          "base_uri": "https://localhost:8080/"
        },
        "id": "Q88lsr3v78gx",
        "outputId": "4404973d-49d6-4d58-ca80-17a830dfc312"
      },
      "execution_count": 28,
      "outputs": [
        {
          "output_type": "stream",
          "name": "stdout",
          "text": [
            "Digite a altura da árvore em metros: 10\n",
            "A árvore tem mais de 5 metros de altura.\n"
          ]
        }
      ]
    },
    {
      "cell_type": "code",
      "source": [
        "#12. Solicite a temperatura de um líquido em graus Celsius e informe seu estado físico: \"congelado\" (≤0°C), \"líquido\" (0°C a 100°C) ou \"ebulição\" (>100°C).\n",
        "temperatura = float(input(\"Digite a temperatura do líquido em graus Celsius: \"))\n",
        "if temperatura <= 0:\n",
        "  print(\"O líquido está em estado congelado.\")\n",
        "elif temperatura >0 and temperatura < 100:\n",
        "  print(\"O líquido está em estado líquido.\")\n",
        "else:\n",
        "  print(\"O líquido está em estado ebulição.\")"
      ],
      "metadata": {
        "colab": {
          "base_uri": "https://localhost:8080/"
        },
        "id": "2oQUPLY-7_u2",
        "outputId": "c15019dd-ea89-45f6-9602-1e7d682978d1"
      },
      "execution_count": 16,
      "outputs": [
        {
          "output_type": "stream",
          "name": "stdout",
          "text": [
            "Digite a temperatura do líquido em graus Celsius: -2\n",
            "O líquido está em estado congelado.\n"
          ]
        }
      ]
    },
    {
      "cell_type": "code",
      "source": [
        "#13. Peça um número inteiro e verifique se ele é múltiplo de 10. Mostre uma mensagem indicando o resultado.\n",
        "número = int(input(\"Digite um número inteiro: \"))\n",
        "if número % 10 == 0:\n",
        "    print(\"O número é múltiplo de 10.\")\n",
        "else:\n",
        "    print(\"O número não é múltiplo de 10.\")"
      ],
      "metadata": {
        "colab": {
          "base_uri": "https://localhost:8080/"
        },
        "id": "qF4O04Uo89CB",
        "outputId": "c6b54933-71f1-4e0b-ca4d-446097c3644e"
      },
      "execution_count": 29,
      "outputs": [
        {
          "output_type": "stream",
          "name": "stdout",
          "text": [
            "Digite um número inteiro: 8102938\n",
            "O número não é múltiplo de 10.\n"
          ]
        }
      ]
    },
    {
      "cell_type": "code",
      "source": [
        "#14. Solicite a nota final de dois alunos e exiba qual deles teve a maior pontuação.\n",
        "nota_final1 = float(input(\"Digite a nota final do primeiro aluno: \"))\n",
        "nota_final2 = float(input(\"Digite a nota final do segundo aluno: \"))\n",
        "if nota_final1 > nota_final2:\n",
        "    print(\"O primeiro aluno teve a maior pontuação.\")\n",
        "    print(\"Nota final do primeiro aluno:\", nota_final1)\n",
        "elif nota_final2 > nota_final1:\n",
        "    print(\"O segundo aluno teve a maior pontuação.\")\n",
        "    print(\"Nota final do segundo aluno:\", nota_final2)"
      ],
      "metadata": {
        "colab": {
          "base_uri": "https://localhost:8080/"
        },
        "id": "xL7N75V59Lv_",
        "outputId": "fde24dda-c92f-4aa3-b243-a3878cc8a9ef"
      },
      "execution_count": 33,
      "outputs": [
        {
          "output_type": "stream",
          "name": "stdout",
          "text": [
            "Digite a nota final do primeiro aluno: 10\n",
            "Digite a nota final do segundo aluno: 20\n",
            "O segundo aluno teve a maior pontuação.\n",
            "Nota final do segundo aluno: 20.0\n"
          ]
        }
      ]
    },
    {
      "cell_type": "code",
      "source": [
        "#15. Peça o nome de uma fruta e verifique se ela contém a letra \"e\". Exiba o resultado.\n",
        "nome = input(\"Digite o nome de uma fruta: \")\n",
        "if \"e\" in nome:\n",
        "    print(\"A fruta contém a letra 'e'.\")\n",
        "else:\n",
        "    print(\"A fruta não contém a letra 'e'.\")"
      ],
      "metadata": {
        "colab": {
          "base_uri": "https://localhost:8080/"
        },
        "id": "3FYvPHUZ9kdQ",
        "outputId": "aec97d86-7e85-4e7b-e3fa-a09920076293"
      },
      "execution_count": 34,
      "outputs": [
        {
          "output_type": "stream",
          "name": "stdout",
          "text": [
            "Digite o nome de uma fruta: maça\n",
            "A fruta não contém a letra 'e'.\n"
          ]
        }
      ]
    },
    {
      "cell_type": "code",
      "source": [
        "#16. Peça a velocidade de um carro em km/h e informe se ela ultrapassa o limite de 80 km/h.\n",
        "velocidade = float(input(\"Digite a velocidade do carro em km/h: \"))\n",
        "if velocidade > 80:\n",
        "    print(\"O carro ultrapassou o limite de velocidade de 80 km/h.\")\n",
        "else:\n",
        "    print(\"O carro está dentro do limite de velocidade.\")"
      ],
      "metadata": {
        "colab": {
          "base_uri": "https://localhost:8080/"
        },
        "id": "1LYeBcdz9ukw",
        "outputId": "d7bd6d3f-c671-44da-d9e3-93bdb338ec21"
      },
      "execution_count": 35,
      "outputs": [
        {
          "output_type": "stream",
          "name": "stdout",
          "text": [
            "Digite a velocidade do carro em km/h: 1000\n",
            "O carro ultrapassou o limite de velocidade de 80 km/h.\n"
          ]
        }
      ]
    },
    {
      "cell_type": "code",
      "source": [
        "#17. Solicite um número ao usuário e informe se ele é divisível por 4 ou por 5. Exiba uma mensagem adequada.\n",
        "número = int(input(\"Digite um número: \"))\n",
        "if número %4 == 0:\n",
        "  print(\"O número é divisível por 4.\")\n",
        "elif número %5 == 0:\n",
        "  print(\"O número é divisível por 5.\")"
      ],
      "metadata": {
        "colab": {
          "base_uri": "https://localhost:8080/"
        },
        "id": "IoRInJ6692Xj",
        "outputId": "3591f3ae-df78-40d5-cbb6-f3a02cefeea9"
      },
      "execution_count": 20,
      "outputs": [
        {
          "output_type": "stream",
          "name": "stdout",
          "text": [
            "Digite um número: 70\n",
            "O número é divisível por 5.\n"
          ]
        }
      ]
    },
    {
      "cell_type": "code",
      "source": [
        "#18. Peça uma palavra ao usuário e verifique se ela contém a letra \"z\". Mostre uma mensagem informando o resultado.\n",
        "palavra =input(\"Digite uma palavra: \")\n",
        "if \"z\" in palavra:\n",
        "  print(\"A palavra contém a letra 'z'.\")\n",
        "else:\n",
        "  print(\"A palavra não contém a letra 'z'.\")"
      ],
      "metadata": {
        "colab": {
          "base_uri": "https://localhost:8080/"
        },
        "id": "_iy7Ramd-oi8",
        "outputId": "f545cd3a-c06e-4c2f-a314-2286d963d10d"
      },
      "execution_count": 36,
      "outputs": [
        {
          "output_type": "stream",
          "name": "stdout",
          "text": [
            "Digite uma palavra: murilo\n",
            "A palavra não contém a letra 'z'.\n"
          ]
        }
      ]
    },
    {
      "cell_type": "code",
      "source": [
        "#19. Solicite a quantidade de itens em um pedido e informe se ela é maior ou menor que 15 unidades.\n",
        "quantidade = int(input(\"Digite a quantidade de itens no pedido: \"))\n",
        "if quantidade < 15:\n",
        "    print(\"O pedido tem menos de 15 itens.\")\n",
        "else:\n",
        "    print(\"O pedido tem mais de 15 itens.\")"
      ],
      "metadata": {
        "colab": {
          "base_uri": "https://localhost:8080/"
        },
        "id": "bfZgWAb0_CYt",
        "outputId": "286eaf76-3ef3-44e8-fc90-62c8321c8275"
      },
      "execution_count": 37,
      "outputs": [
        {
          "output_type": "stream",
          "name": "stdout",
          "text": [
            "Digite a quantidade de itens no pedido: 90\n",
            "O pedido tem mais de 15 itens.\n"
          ]
        }
      ]
    },
    {
      "cell_type": "code",
      "source": [
        "#20. Peça um número e verifique se ele termina com o dígito 7. Informe o resultado.\n",
        "número = int(input(\"Digite um número: \"))\n",
        "if número % 10 == 7:\n",
        "    print(\"O número termina com o dígito 7.\")\n",
        "else:\n",
        "    print(\"O número não termina com o dígito 7.\")"
      ],
      "metadata": {
        "colab": {
          "base_uri": "https://localhost:8080/"
        },
        "id": "8xhfRnM8_LGr",
        "outputId": "8880e7c7-6315-452a-eecd-45091c0ec858"
      },
      "execution_count": 38,
      "outputs": [
        {
          "output_type": "stream",
          "name": "stdout",
          "text": [
            "Digite um número: 012381902381097\n",
            "O número termina com o dígito 7.\n"
          ]
        }
      ]
    },
    {
      "cell_type": "code",
      "source": [
        "#21. Solicite o ano de fabricação de um veículo e informe se ele tem mais de 20 anos.\n",
        "ano = int(input(\"Digite o ano de fabricação do veículo: \"))\n",
        "if 2023 - ano > 20:\n",
        "    print(\"O veículo tem mais de 20 anos.\")\n",
        "else:\n",
        "    print(\"O veículo tem menos de 20 anos.\")"
      ],
      "metadata": {
        "colab": {
          "base_uri": "https://localhost:8080/"
        },
        "id": "2dugNN0-_Nur",
        "outputId": "0a99d175-45d1-46c6-9009-19cb1af331d9"
      },
      "execution_count": 39,
      "outputs": [
        {
          "output_type": "stream",
          "name": "stdout",
          "text": [
            "Digite o ano de fabricação do veículo: 2006\n",
            "O veículo tem menos de 20 anos.\n"
          ]
        }
      ]
    },
    {
      "cell_type": "code",
      "source": [
        "#22. Peça um número de telefone e verifique se ele contém o dígito 9. Exiba o resultado.\n",
        "telefone = input(\"Digite um número de telefone: \")\n",
        "if \"9\" in telefone:\n",
        "    print(\"O número de telefone contém o dígito 9.\")\n",
        "else:\n",
        "    print(\"O número de telefone não contém o dígito 9.\")"
      ],
      "metadata": {
        "colab": {
          "base_uri": "https://localhost:8080/"
        },
        "id": "3v7h7-wz_QEZ",
        "outputId": "6c34762f-d356-40dd-c8bb-c28cfde13d14"
      },
      "execution_count": 40,
      "outputs": [
        {
          "output_type": "stream",
          "name": "stdout",
          "text": [
            "Digite um número de telefone: 27995906403\n",
            "O número de telefone contém o dígito 9.\n"
          ]
        }
      ]
    },
    {
      "cell_type": "code",
      "source": [
        "#23. Solicite um número e informe se ele possui exatamente 2 dígitos.\n",
        "número = int(input(\"Digite um número: \"))\n",
        "if número >= 10 and número <= 99:\n",
        "    print(\"O número possui exatamente 2 dígitos.\")\n",
        "else:\n",
        "    print(\"O número não possui exatamente 2 dígitos.\")"
      ],
      "metadata": {
        "colab": {
          "base_uri": "https://localhost:8080/"
        },
        "id": "a8wDAxLd_SPM",
        "outputId": "9af9c915-b9aa-4b00-91b5-05181e674c9f"
      },
      "execution_count": 41,
      "outputs": [
        {
          "output_type": "stream",
          "name": "stdout",
          "text": [
            "Digite um número: 69\n",
            "O número possui exatamente 2 dígitos.\n"
          ]
        }
      ]
    },
    {
      "cell_type": "code",
      "source": [
        "#24. Peça o preço de um ingresso e aplique um desconto de 15%. Verifique se o preço com desconto ainda é superior a R$50,00 e exiba uma mensagem informando o resultado.\n",
        "preço = float(input(\"Digite o preço do ingresso: \"))\n",
        "desconto = preço * 0.15\n",
        "preço_com_desconto = preço - desconto\n",
        "if preço_com_desconto > 50:\n",
        "    print(\"O preço com desconto ainda é superior a R$50,00.\")\n",
        "else:\n",
        "    print(\"O preço com desconto não é superior a R$50,00.\")"
      ],
      "metadata": {
        "colab": {
          "base_uri": "https://localhost:8080/"
        },
        "id": "42kdqksP_UGx",
        "outputId": "14db8eaf-f525-4b05-bea8-a5eae586ec5b"
      },
      "execution_count": 43,
      "outputs": [
        {
          "output_type": "stream",
          "name": "stdout",
          "text": [
            "Digite o preço do ingresso: 300\n",
            "O preço com desconto ainda é superior a R$50,00.\n"
          ]
        }
      ]
    },
    {
      "cell_type": "code",
      "source": [
        "#25. Solicite um número ao usuário e informe se ele é divisível por 8. Exiba o resultado.\n",
        "número = int(input(\"Digite um número: \"))\n",
        "if número % 8 == 0:\n",
        "    print(\"O número é divisível por 8.\")\n",
        "else:\n",
        "    print(\"O número não é divisível por 8.\")"
      ],
      "metadata": {
        "colab": {
          "base_uri": "https://localhost:8080/"
        },
        "id": "DL9ygxmw_WJw",
        "outputId": "a76641a4-1585-49f7-b3f4-2a077e6d239f"
      },
      "execution_count": 44,
      "outputs": [
        {
          "output_type": "stream",
          "name": "stdout",
          "text": [
            "Digite um número: 20\n",
            "O número não é divisível por 8.\n"
          ]
        }
      ]
    },
    {
      "cell_type": "code",
      "source": [
        "#26. Peça um número e verifique se ele é divisível tanto por 5 quanto por 9. Informe o resultado.\n",
        "número = int(input(\"Digite um número: \"))\n",
        "if número % 5 == 0 and número % 9 == 0:\n",
        "    print(\"O número é divisível tanto por 5 quanto por 9.\")\n",
        "else:\n",
        "    print(\"O número não é divisível tanto por 5 quanto por 9.\")"
      ],
      "metadata": {
        "colab": {
          "base_uri": "https://localhost:8080/"
        },
        "id": "2NJesUgd_aVl",
        "outputId": "bb34d6d2-a575-4f22-ac2f-eab30116605a"
      },
      "execution_count": 45,
      "outputs": [
        {
          "output_type": "stream",
          "name": "stdout",
          "text": [
            "Digite um número: 23\n",
            "O número não é divisível tanto por 5 quanto por 9.\n"
          ]
        }
      ]
    },
    {
      "cell_type": "code",
      "source": [
        "#27. Solicite o peso de um objeto em kg e informe se ele pesa mais de 25 kg.\n",
        "peso = float(input(\"Digite o peso do objeto em kg: \"))\n",
        "if peso > 25:\n",
        "    print(\"O objeto pesa mais de 25 kg.\")\n",
        "else:\n",
        "    print(\"O objeto não pesa mais de 25 kg.\")"
      ],
      "metadata": {
        "colab": {
          "base_uri": "https://localhost:8080/"
        },
        "id": "0Jp3wVB6_1o0",
        "outputId": "6ad10f4a-e7cf-4255-f126-8f74096cfa59"
      },
      "execution_count": 46,
      "outputs": [
        {
          "output_type": "stream",
          "name": "stdout",
          "text": [
            "Digite o peso do objeto em kg: 65\n",
            "O objeto pesa mais de 25 kg.\n"
          ]
        }
      ]
    },
    {
      "cell_type": "code",
      "source": [
        "#28. Peça uma letra ao usuário e informe se ela é uma vogal ou uma consoante. Considere letras minúsculas e maiúsculas.\n",
        "letra = input(\"Digite uma letra: \")\n",
        "if letra in \"aeiouAEIOU\":\n",
        "    print(\"A letra é uma vogal.\")\n",
        "else:\n",
        "    print(\"A letra é uma consoante.\")"
      ],
      "metadata": {
        "colab": {
          "base_uri": "https://localhost:8080/"
        },
        "id": "00n1ZrqM_4Zg",
        "outputId": "2d414396-764d-4991-c345-db2f7fc15028"
      },
      "execution_count": 47,
      "outputs": [
        {
          "output_type": "stream",
          "name": "stdout",
          "text": [
            "Digite uma letra: m\n",
            "A letra é uma consoante.\n"
          ]
        }
      ]
    },
    {
      "cell_type": "code",
      "source": [
        "#29. Solicite a velocidade de um veículo e informe se ela está abaixo, dentro ou acima do limite de 60 km/h.\n",
        "velocidade = float(input(\"Digite a velocidade do veículo em km/h: \"))\n",
        "if velocidade < 60:\n",
        "    print(\"O veículo está abaixo do limite de velocidade.\")\n",
        "    print(\"Velocidade:\", velocidade, \"km/h\")\n",
        "elif velocidade > 60:\n",
        "    print(\"O veículo está acima do limite de velocidade de 60km/h.\")\n",
        "    print(\"Velocidade:\", velocidade, \"km/h\")"
      ],
      "metadata": {
        "colab": {
          "base_uri": "https://localhost:8080/"
        },
        "id": "tgQfXTQr_7Jv",
        "outputId": "13d242d4-047c-4344-e2b7-cf340bfc7265"
      },
      "execution_count": 50,
      "outputs": [
        {
          "output_type": "stream",
          "name": "stdout",
          "text": [
            "Digite a velocidade do veículo em km/h: 288\n",
            "O veículo está acima do limite de velocidade de 60km/h.\n",
            "Velocidade: 288.0 km/h\n"
          ]
        }
      ]
    },
    {
      "cell_type": "code",
      "source": [
        "#30. Peça um valor em reais ao usuário e verifique se ele é suficiente para comprar um produto que custa R$200,00. Exiba uma mensagem com a resposta.\n",
        "valor = float(input(\"Digite um valor em reais: \"))\n",
        "if valor >= 200:\n",
        "    print(\"O valor é suficiente para comprar o produto.\")\n",
        "else:\n",
        "    print(\"O valor não é suficiente para comprar o produto.\")"
      ],
      "metadata": {
        "colab": {
          "base_uri": "https://localhost:8080/"
        },
        "id": "q_PBCDDQ_-Wp",
        "outputId": "f700ca54-cc07-40a8-c7ba-56db7b9c0e64"
      },
      "execution_count": 51,
      "outputs": [
        {
          "output_type": "stream",
          "name": "stdout",
          "text": [
            "Digite um valor em reais: 300\n",
            "O valor é suficiente para comprar o produto.\n"
          ]
        }
      ]
    }
  ]
}