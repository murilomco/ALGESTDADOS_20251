{
  "nbformat": 4,
  "nbformat_minor": 0,
  "metadata": {
    "colab": {
      "provenance": [],
      "authorship_tag": "ABX9TyOeUZL9KPO1ql7e2kVih6o2",
      "include_colab_link": true
    },
    "kernelspec": {
      "name": "python3",
      "display_name": "Python 3"
    },
    "language_info": {
      "name": "python"
    }
  },
  "cells": [
    {
      "cell_type": "markdown",
      "metadata": {
        "id": "view-in-github",
        "colab_type": "text"
      },
      "source": [
        "<a href=\"https://colab.research.google.com/github/murilomco/ALGESTDADOS_20251/blob/main/quest%C3%B5es%207%20a%2010%20da%20prova.ipynb\" target=\"_parent\"><img src=\"https://colab.research.google.com/assets/colab-badge.svg\" alt=\"Open In Colab\"/></a>"
      ]
    },
    {
      "cell_type": "code",
      "execution_count": 1,
      "metadata": {
        "colab": {
          "base_uri": "https://localhost:8080/"
        },
        "id": "A1OipJiN6b9l",
        "outputId": "c72dee78-da36-4f46-8b76-f6b748e2660b"
      },
      "outputs": [
        {
          "output_type": "stream",
          "name": "stdout",
          "text": [
            "ano_atual: 2025\n"
          ]
        }
      ],
      "source": [
        "from datetime import datetime\n",
        "ano_atual = datetime.now().year\n",
        "print('ano_atual:', ano_atual)"
      ]
    },
    {
      "cell_type": "code",
      "source": [
        "for i in range(1, 11):\n",
        "  if i % 3 == 0:\n",
        "    continue\n",
        "  print(i)"
      ],
      "metadata": {
        "colab": {
          "base_uri": "https://localhost:8080/"
        },
        "id": "v5hbsN-x6qaM",
        "outputId": "aeb8be6e-56ea-4a24-f9b0-d2be70fe023a"
      },
      "execution_count": 2,
      "outputs": [
        {
          "output_type": "stream",
          "name": "stdout",
          "text": [
            "1\n",
            "2\n",
            "4\n",
            "5\n",
            "7\n",
            "8\n",
            "10\n"
          ]
        }
      ]
    },
    {
      "cell_type": "code",
      "source": [
        "frase = input('digite uma frase: ')\n",
        "if len(frase) > 10:\n",
        "  print('Quantidade de caracteres:', len(frase))"
      ],
      "metadata": {
        "colab": {
          "base_uri": "https://localhost:8080/"
        },
        "id": "kV-lIWjV6sos",
        "outputId": "ae2f2a35-0662-4cc1-d46e-3b7f008b3379"
      },
      "execution_count": 3,
      "outputs": [
        {
          "output_type": "stream",
          "name": "stdout",
          "text": [
            "digite uma frase: vou tirar 20 na prova\n",
            "Quantidade de caracteres: 21\n"
          ]
        }
      ]
    },
    {
      "cell_type": "code",
      "source": [
        "pote_a = input('digite um número: ')\n",
        "pote_b = input('digite outro número: ')\n",
        "\n",
        "pote_c = pote_a\n",
        "pote_a = pote_b\n",
        "pote_b = pote_c\n",
        "print('pote_a agora é:', pote_a)\n",
        "print('pote_b agora é:', pote_b)"
      ],
      "metadata": {
        "colab": {
          "base_uri": "https://localhost:8080/"
        },
        "id": "PyhGoUQC62zW",
        "outputId": "2b4fe015-564f-497d-df05-f6dbe7d42dfb"
      },
      "execution_count": 4,
      "outputs": [
        {
          "output_type": "stream",
          "name": "stdout",
          "text": [
            "digite um número: 0\n",
            "digite outro número: 1\n",
            "pote_a agora é: 1\n",
            "pote_b agora é: 0\n"
          ]
        }
      ]
    }
  ]
}