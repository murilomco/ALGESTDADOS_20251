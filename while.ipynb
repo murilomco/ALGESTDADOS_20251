{
  "cells": [
    {
      "cell_type": "markdown",
      "metadata": {
        "id": "view-in-github",
        "colab_type": "text"
      },
      "source": [
        "<a href=\"https://colab.research.google.com/github/murilomco/ALGESTDADOS_20251/blob/main/while.ipynb\" target=\"_parent\"><img src=\"https://colab.research.google.com/assets/colab-badge.svg\" alt=\"Open In Colab\"/></a>"
      ]
    },
    {
      "cell_type": "code",
      "execution_count": null,
      "metadata": {
        "colab": {
          "base_uri": "https://localhost:8080/"
        },
        "id": "oPAUYBTydbPe",
        "outputId": "69781545-b0e7-4b90-e2ec-4c98c9cb5281"
      },
      "outputs": [
        {
          "name": "stdout",
          "output_type": "stream",
          "text": [
            "interação 0\n",
            "interação 1\n",
            "interação 2\n",
            "interação 3\n",
            "interação 4\n"
          ]
        }
      ],
      "source": [
        "contador = 0\n",
        "while contador <5:\n",
        "  print(f'interação {contador}')\n",
        "  contador += 1"
      ]
    },
    {
      "cell_type": "code",
      "execution_count": null,
      "metadata": {
        "colab": {
          "base_uri": "https://localhost:8080/"
        },
        "id": "_gVraTSGswZ8",
        "outputId": "fe99fb3f-f1aa-45d6-d28e-12f4bf5931ee"
      },
      "outputs": [
        {
          "name": "stdout",
          "output_type": "stream",
          "text": [
            "1\n",
            "2\n",
            "3\n",
            "4\n",
            "5\n",
            "6\n",
            "7\n",
            "8\n",
            "9\n",
            "10\n"
          ]
        }
      ],
      "source": [
        "i = 1\n",
        "while i <=10:\n",
        "  print (i)\n",
        "  i+= 1 #1"
      ]
    },
    {
      "cell_type": "code",
      "execution_count": null,
      "metadata": {
        "colab": {
          "base_uri": "https://localhost:8080/"
        },
        "id": "hIX61cu-7Y6j",
        "outputId": "3e9c600f-a6b3-4e99-c99f-9c43bb1dc3d5"
      },
      "outputs": [
        {
          "name": "stdout",
          "output_type": "stream",
          "text": [
            "1\n",
            "2\n",
            "3\n",
            "4\n",
            "5\n",
            "6\n",
            "7\n",
            "8\n",
            "9\n",
            "10\n"
          ]
        }
      ],
      "source": [
        "for i in range(1,11):\n",
        "  print (i) #2"
      ]
    },
    {
      "cell_type": "code",
      "execution_count": null,
      "metadata": {
        "colab": {
          "background_save": true,
          "base_uri": "https://localhost:8080/"
        },
        "id": "SYPkVWSj74ga",
        "outputId": "2a90a689-b188-4ed6-f59b-73a42d40fe9c"
      },
      "outputs": [
        {
          "name": "stdout",
          "output_type": "stream",
          "text": [
            "melancia\n",
            "banana\n",
            "maça\n",
            "pera\n"
          ]
        }
      ],
      "source": [
        "lista = ['melancia','banana','maça','pera']\n",
        "for i in lista:\n",
        "  print(i) #3"
      ]
    },
    {
      "cell_type": "code",
      "execution_count": null,
      "metadata": {
        "colab": {
          "base_uri": "https://localhost:8080/"
        },
        "id": "7nR8CCxe-xTF",
        "outputId": "ce8aab4b-c36c-4011-ea6f-98973b1f89a5"
      },
      "outputs": [
        {
          "output_type": "stream",
          "name": "stdout",
          "text": [
            "0\n",
            "2\n",
            "4\n",
            "6\n",
            "8\n",
            "10\n",
            "12\n",
            "14\n",
            "16\n",
            "18\n",
            "20\n"
          ]
        }
      ],
      "source": [
        "#Utilize um while para imprimir os números pares de 0 a 20\n",
        "numero = 0\n",
        "while numero <=20:\n",
        "  if numero % 2 == 0:\n",
        "    print(numero)\n",
        "  numero+= 1\n",
        "\n",
        "\n",
        "#4"
      ]
    },
    {
      "cell_type": "code",
      "execution_count": null,
      "metadata": {
        "id": "9_lbQvN7AbsM",
        "colab": {
          "base_uri": "https://localhost:8080/"
        },
        "outputId": "163bb80a-9b46-42b6-d4bb-c0c2c3a9678f"
      },
      "outputs": [
        {
          "output_type": "stream",
          "name": "stdout",
          "text": [
            "digite uma palavra: murilo\n",
            "digite uma palavra: miranda\n",
            "digite uma palavra: correia\n",
            "digite uma palavra: sair\n",
            "['murilo', 'miranda', 'correia']\n"
          ]
        }
      ],
      "source": [
        "palavra = ''\n",
        "lista = []\n",
        "while palavra.upper() != 'SAIR':\n",
        "  palavra = input(\"digite uma palavra: \")\n",
        "  if palavra.upper() != 'SAIR':\n",
        "    lista.append(palavra)\n",
        "print(lista) #10"
      ]
    },
    {
      "cell_type": "code",
      "source": [
        "lista = [\"joao\", \"murilo\", \"samurex\"]\n",
        "for indice, valor in enumerate(lista):\n",
        "  print(f\"{indice} {valor}\")\n",
        "  #5"
      ],
      "metadata": {
        "id": "THj9INBCndeH",
        "colab": {
          "base_uri": "https://localhost:8080/"
        },
        "outputId": "a0dbb5ca-4b74-4e1d-e1bb-66bb55a02244"
      },
      "execution_count": 5,
      "outputs": [
        {
          "output_type": "stream",
          "name": "stdout",
          "text": [
            "0 joao\n",
            "1 murilo\n",
            "2 samurex\n"
          ]
        }
      ]
    },
    {
      "cell_type": "code",
      "source": [
        "num = 0\n",
        "while True:\n",
        "  num = int(input('digite um numero: '))\n",
        "  if num >= 0:\n",
        "    break #6"
      ],
      "metadata": {
        "colab": {
          "base_uri": "https://localhost:8080/"
        },
        "id": "b76g44XYoI8G",
        "outputId": "fba47eeb-bdfd-4c21-b5cd-5c9c890065ea"
      },
      "execution_count": 8,
      "outputs": [
        {
          "name": "stdout",
          "output_type": "stream",
          "text": [
            "digite um numero: 10\n"
          ]
        }
      ]
    },
    {
      "cell_type": "code",
      "source": [
        "for i in range(10,-1,-1):\n",
        "  print(i)\n",
        "print(f'fim!')\n",
        "#7"
      ],
      "metadata": {
        "colab": {
          "base_uri": "https://localhost:8080/"
        },
        "id": "L1HB1px7ofN3",
        "outputId": "3188d488-fcd6-4563-8449-9d3490a42d4d"
      },
      "execution_count": 10,
      "outputs": [
        {
          "output_type": "stream",
          "name": "stdout",
          "text": [
            "10\n",
            "9\n",
            "8\n",
            "7\n",
            "6\n",
            "5\n",
            "4\n",
            "3\n",
            "2\n",
            "1\n",
            "0\n",
            "fim!\n"
          ]
        }
      ]
    },
    {
      "cell_type": "code",
      "source": [
        "n = 1\n",
        "soma = 0\n",
        "while n <= 100:\n",
        "  soma += n\n",
        "  n += 1\n",
        "print(soma) #8"
      ],
      "metadata": {
        "colab": {
          "base_uri": "https://localhost:8080/"
        },
        "id": "Qd3C8pAbow24",
        "outputId": "6da46c91-3c81-40b8-aba7-abd6183ee60f"
      },
      "execution_count": 11,
      "outputs": [
        {
          "output_type": "stream",
          "name": "stdout",
          "text": [
            "5050\n"
          ]
        }
      ]
    },
    {
      "cell_type": "code",
      "source": [
        "n = 1\n",
        "soma = 0\n",
        "while n <=100:\n",
        "  if soma > 1000:\n",
        "    break\n",
        "  soma += n\n",
        "  n += 1\n",
        "print(soma)\n",
        "#9"
      ],
      "metadata": {
        "colab": {
          "base_uri": "https://localhost:8080/"
        },
        "id": "G1btDu5apDMa",
        "outputId": "3029e771-76b3-49e6-c237-89ac5bac9eb4"
      },
      "execution_count": 15,
      "outputs": [
        {
          "output_type": "stream",
          "name": "stdout",
          "text": [
            "1035\n"
          ]
        }
      ]
    },
    {
      "cell_type": "code",
      "source": [],
      "metadata": {
        "id": "btRddX74pi8s"
      },
      "execution_count": null,
      "outputs": []
    }
  ],
  "metadata": {
    "colab": {
      "provenance": [],
      "authorship_tag": "ABX9TyPjnY++4cKSyKHR/nxva2rQ",
      "include_colab_link": true
    },
    "kernelspec": {
      "display_name": "Python 3",
      "name": "python3"
    },
    "language_info": {
      "name": "python"
    }
  },
  "nbformat": 4,
  "nbformat_minor": 0
}