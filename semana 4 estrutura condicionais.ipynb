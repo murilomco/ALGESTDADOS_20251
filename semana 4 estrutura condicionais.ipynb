{
  "nbformat": 4,
  "nbformat_minor": 0,
  "metadata": {
    "colab": {
      "provenance": [],
      "authorship_tag": "ABX9TyMDO5C0EkQMtKJLLFykfrkJ",
      "include_colab_link": true
    },
    "kernelspec": {
      "name": "python3",
      "display_name": "Python 3"
    },
    "language_info": {
      "name": "python"
    }
  },
  "cells": [
    {
      "cell_type": "markdown",
      "metadata": {
        "id": "view-in-github",
        "colab_type": "text"
      },
      "source": [
        "<a href=\"https://colab.research.google.com/github/murilomco/ALGESTDADOS_20251/blob/main/semana%204%20estrutura%20condicionais.ipynb\" target=\"_parent\"><img src=\"https://colab.research.google.com/assets/colab-badge.svg\" alt=\"Open In Colab\"/></a>"
      ]
    },
    {
      "cell_type": "code",
      "execution_count": null,
      "metadata": {
        "colab": {
          "base_uri": "https://localhost:8080/"
        },
        "collapsed": true,
        "id": "2M_rhyqxTghI",
        "outputId": "3a8131e1-6b6e-4784-d21a-85c68dd9410d"
      },
      "outputs": [
        {
          "output_type": "stream",
          "name": "stdout",
          "text": [
            "insira um números6\n",
            "insira outro número6\n",
            "12\n"
          ]
        }
      ],
      "source": [
        "#Peça dois números ao usuário e exiba a soma.\n",
        "number1 = int(input('insira um números:'))\n",
        "number2 = int(input('insira outro número:'))\n",
        "soma = number1+number2\n",
        "print(number1+number2)"
      ]
    },
    {
      "cell_type": "code",
      "source": [
        "#Solicite o primeiro e o último nome do usuário e exiba o nome completo.\n",
        "primeiro = input('insira o seu primeiro nome:')\n",
        "ultimo = input('insira o seu último nome:')\n",
        "print('seu nome completo é: '+ primeiro+' '+ultimo) #CONCATENADO\n",
        "\n",
        "#ou\n",
        "\n",
        "print('seu nome completo é: ',primeiro,ultimo) #SEQUÊNCIAL\n",
        "\n",
        "#ou\n",
        "\n",
        "print(f'seu nome completo é: {primeiro} {ultimo}') #FORMATADO\n"
      ],
      "metadata": {
        "colab": {
          "base_uri": "https://localhost:8080/"
        },
        "id": "B2Yjyz-UZQDk",
        "outputId": "d0a255e9-2b56-4440-feda-4c21a76f73c6"
      },
      "execution_count": null,
      "outputs": [
        {
          "output_type": "stream",
          "name": "stdout",
          "text": [
            "insira o seu primeiro nome:MURILO\n",
            "insira o seu último nome:MIRANDA CORREIA\n",
            "seu nome completo é: MURILO MIRANDA CORREIA\n",
            "seu nome completo é:  MURILO MIRANDA CORREIA\n",
            "seu nome completo é: MURILO MIRANDA CORREIA\n"
          ]
        }
      ]
    },
    {
      "cell_type": "code",
      "source": [
        "#Peça uma palavra e um número ao usuário e exiba a palavra repetida esse número de vezes.\n",
        "palavra = input('insira uma palavra aleatória: ')\n",
        "numero = int(input('digite um numero: '))\n",
        "palavra = (palavra +', ')\n",
        "print(palavra*numero)\n",
        "\n",
        "#ou\n",
        "\n",
        "palavra = (palavra +'\\n') #para adicionar um parágrafo\n",
        "print(palavra*numero)"
      ],
      "metadata": {
        "colab": {
          "base_uri": "https://localhost:8080/"
        },
        "id": "lX53gCO7cOxi",
        "outputId": "0ddf7940-75b9-485c-eb3b-aca593a95f11"
      },
      "execution_count": null,
      "outputs": [
        {
          "output_type": "stream",
          "name": "stdout",
          "text": [
            "insira uma palavra aleatória: mrl\n",
            "digite um numero: 10\n",
            "mrl, mrl, mrl, mrl, mrl, mrl, mrl, mrl, mrl, mrl, \n",
            "mrl, \n",
            "mrl, \n",
            "mrl, \n",
            "mrl, \n",
            "mrl, \n",
            "mrl, \n",
            "mrl, \n",
            "mrl, \n",
            "mrl, \n",
            "mrl, \n",
            "\n"
          ]
        }
      ]
    },
    {
      "cell_type": "code",
      "source": [
        "#Solicite um texto e exiba-o em letras maiúsculas.\n",
        "texto = input('insira um texto: ')\n",
        "print(texto.upper()) #para deixar maiúsculo\n",
        "\n",
        "print(texto.lower()) #para deixar minúsculo\n",
        "\n",
        "print(texto.capitalize()) #para deixar com a primeira letra maiúscula\n"
      ],
      "metadata": {
        "colab": {
          "base_uri": "https://localhost:8080/"
        },
        "id": "tJqFTJFLgay3",
        "outputId": "5755fc0e-5de3-4003-ab8b-b7e287d711e0"
      },
      "execution_count": null,
      "outputs": [
        {
          "output_type": "stream",
          "name": "stdout",
          "text": [
            "insira um texto: murilo\n",
            "MURILO\n"
          ]
        }
      ]
    },
    {
      "cell_type": "code",
      "source": [
        "#Peça uma palavra e exiba quantos caracteres ela tem.\n",
        "palavra =input('insira uma palavra:')\n",
        "print(f'sua palavra possui {len(palavra)} letras')\n"
      ],
      "metadata": {
        "colab": {
          "base_uri": "https://localhost:8080/"
        },
        "id": "VAeZIcdyhbdG",
        "outputId": "c9950b5a-c91e-4bf8-e2ed-f1760f86f229"
      },
      "execution_count": null,
      "outputs": [
        {
          "output_type": "stream",
          "name": "stdout",
          "text": [
            "insira uma palavra:mrl\n",
            "sua palavra possui 3 letras\n"
          ]
        }
      ]
    },
    {
      "cell_type": "code",
      "source": [
        "#Mostre a data e a hora atuais.\n",
        "from datetime import datetime\n",
        "data_e_hora_atuais = datetime.now()\n",
        "data_e_hora_em_texto = data_e_hora_atuais.strftime('%d/%m/%Y %H:%M')\n",
        "print(f'DATA/HORA atuais: {data_e_hora_em_texto}')\n"
      ],
      "metadata": {
        "colab": {
          "base_uri": "https://localhost:8080/"
        },
        "id": "idV06CLoi1kj",
        "outputId": "0b3e3dd4-e17d-4299-9b35-8cdc46d7ead4"
      },
      "execution_count": null,
      "outputs": [
        {
          "output_type": "stream",
          "name": "stdout",
          "text": [
            "DATA/HORA atuais: 13/03/2025 17:34\n"
          ]
        }
      ]
    },
    {
      "cell_type": "code",
      "source": [
        "#Peça um número e informe se ele é maior que 10. Crie um algoritmo em Python para fazer essa verificação.\n",
        "numero = int(input('insira um número: '))\n",
        "if numero > 10:\n",
        "  print(f'{numero} é maior que 10.')\n",
        "else:\n",
        "  print(f'{numero} não é maior que 10.')\n",
        "\n"
      ],
      "metadata": {
        "colab": {
          "base_uri": "https://localhost:8080/"
        },
        "id": "HkdWo-bvVdUL",
        "outputId": "f105bb00-12d8-47b6-cbcf-c8607e6e93e6"
      },
      "execution_count": 2,
      "outputs": [
        {
          "output_type": "stream",
          "name": "stdout",
          "text": [
            "insira um número: 5\n",
            "5 não é maior que 10.\n"
          ]
        }
      ]
    },
    {
      "cell_type": "code",
      "source": [
        "#Peça um número inteiro e informe se ele é par. Crie um algoritmo em Python que verifique se o número é divisível por 2.\n",
        "numero = int(input('insira um número inteiro: '))\n",
        "if numero %2 ==0:\n",
        "  print(f'é par e é divisível por 2.')\n",
        "else:\n",
        "  print(f'é ímpar e não é divisível por 2')\n",
        "\n"
      ],
      "metadata": {
        "colab": {
          "base_uri": "https://localhost:8080/"
        },
        "collapsed": true,
        "id": "3cOYJkBkXHQV",
        "outputId": "f56d79ca-69a3-444d-8212-2c8982301f8f"
      },
      "execution_count": 7,
      "outputs": [
        {
          "output_type": "stream",
          "name": "stdout",
          "text": [
            "insira um número inteiro: 5\n",
            "é ímpar e não é divisível por 2\n"
          ]
        }
      ]
    },
    {
      "cell_type": "code",
      "source": [
        "#Peça um nome e informe se ele contém a letra \"a\". Crie um algoritmo em Python que faça essa verificação.\n",
        "nome = input('insira um nome: ')\n",
        "if 'a' in nome:\n",
        "  print(f' o nome {nome} contém a letra \"a\": ')\n",
        "else:\n",
        "  print(f' o nome {nome} não contém a letra \"a\": ')\n"
      ],
      "metadata": {
        "colab": {
          "base_uri": "https://localhost:8080/"
        },
        "id": "ZZiRQv63YRyZ",
        "outputId": "28fc8d5b-1951-4a19-911a-2c2158c0f2c4"
      },
      "execution_count": 10,
      "outputs": [
        {
          "output_type": "stream",
          "name": "stdout",
          "text": [
            "insira um nome: murilo\n",
            " o nome murilo não contém a letra \"a\": \n"
          ]
        }
      ]
    },
    {
      "cell_type": "code",
      "source": [
        "#Peça um número e informe se ele é múltiplo de 5. Crie um algoritmo em Python que verifique se o número é divisível por 5.\n",
        "num = int(input('insira um numero: '))\n",
        "if num %5 ==0:\n",
        "  print(f'é multiplo e divisível por 5')\n",
        "else:\n",
        "  print(f'não é multiplo e não é divisível por 5')\n"
      ],
      "metadata": {
        "colab": {
          "base_uri": "https://localhost:8080/"
        },
        "id": "HsG0ZeO1benM",
        "outputId": "87d40ac5-919f-4b60-b4cd-341409218cb6"
      },
      "execution_count": 13,
      "outputs": [
        {
          "output_type": "stream",
          "name": "stdout",
          "text": [
            "insira um numero: 10000000\n",
            "é multiplo e divisível por 5\n"
          ]
        }
      ]
    },
    {
      "cell_type": "code",
      "source": [
        "#Peça a temperatura atual e informe se está quente (acima de 30°C) ou frio (30°C ou menos). Crie um algoritmo em Python para essa verificação.\n",
        "temp_atual = float(input('insira a temperatura atual: '))\n",
        "if temp_atual > 30:\n",
        "  print(f'está temperatura indica que o clima esta quente')\n",
        "else:\n",
        "  print(f'está temperatura indica que o clima esta frio')\n"
      ],
      "metadata": {
        "colab": {
          "base_uri": "https://localhost:8080/"
        },
        "id": "tAMdtncbcc9d",
        "outputId": "fe8ae8cb-520b-4d73-fcc6-63541fc36dfa"
      },
      "execution_count": 22,
      "outputs": [
        {
          "output_type": "stream",
          "name": "stdout",
          "text": [
            "insira a temperatura atual: 47\n",
            "está temperatura indica que o clima esta quente\n"
          ]
        }
      ]
    },
    {
      "cell_type": "code",
      "source": [
        "#Peça ao usuário para digitar \"S\" para continuar ou \"N\" para sair e informe a ação correspondente. Crie um algoritmo em Python que faça essa validação e exiba a mensagem correta.\n",
        "letra =input('insira \"S\" para continuar ou \"N\" para sair: ')\n",
        "if \"S\" in letra:\n",
        "  print(f'continuará')\n",
        "if \"N\" in letra:\n",
        "  print(f'sairá')"
      ],
      "metadata": {
        "colab": {
          "base_uri": "https://localhost:8080/"
        },
        "id": "LHhN0vTXdzew",
        "outputId": "f4b2e37d-8ad0-44ba-cabf-2cb5be71e27a"
      },
      "execution_count": 27,
      "outputs": [
        {
          "output_type": "stream",
          "name": "stdout",
          "text": [
            "insira \"S\" para continuar ou \"N\" para sair: N\n",
            "sairá\n"
          ]
        }
      ]
    },
    {
      "cell_type": "code",
      "source": [
        "#Peça um número e informe se ele é negativo, zero ou positivo. Crie um algoritmo em Python para classificar o número.\n",
        "numero = int(input('insira um número: '))\n",
        "if numero < 0:\n",
        "  print(f'é negativo')\n",
        "elif numero == 0:\n",
        "  print(f'é zero')\n",
        "else:\n",
        "  print(f'é positivo')"
      ],
      "metadata": {
        "colab": {
          "base_uri": "https://localhost:8080/"
        },
        "id": "Oulk3DiSfJAY",
        "outputId": "392e997f-d518-46ed-819b-6003607b089b"
      },
      "execution_count": 32,
      "outputs": [
        {
          "output_type": "stream",
          "name": "stdout",
          "text": [
            "insira um número: -1203810297290837\n",
            "é negativo\n"
          ]
        }
      ]
    },
    {
      "cell_type": "code",
      "source": [
        "#Peça um número de 1 a 7 e informe o dia da semana correspondente. Crie um algoritmo em Python que associe o número ao dia correto.\n",
        "num = int(input('insira um numero de 1 a 7:'))\n",
        "dia = ['domingo', 'segunda-feira', 'terça-feira', 'quarta-feira', 'quinta-feira', 'sexta-feira']\n",
        "dia = dia[num-1]\n",
        "print(f'O dia da semana correspondente a {num} é {dia}: ')\n"
      ],
      "metadata": {
        "colab": {
          "base_uri": "https://localhost:8080/"
        },
        "id": "1iBiHyh_fwRg",
        "outputId": "929854df-3365-4972-d5fd-c5631ec2868c"
      },
      "execution_count": 35,
      "outputs": [
        {
          "output_type": "stream",
          "name": "stdout",
          "text": [
            "insira um numero de 1 a 7:5\n",
            "O dia da semana correspondente a 5 é quinta-feira: \n"
          ]
        }
      ]
    },
    {
      "cell_type": "code",
      "source": [
        "#Peça um ano e informe se ele é bissexto. Crie um algoritmo em Python que verifique se o ano é divisível por 4 e não por 100, exceto se também for divisível por 400.\n",
        "ano = int(input('insira um ano aleatório: '))\n",
        "if ano %4==0 and ano %100 !=0:\n",
        "  print(f'é um ano bissexto')\n",
        "else:\n",
        "  print(f'não é um ano bissexto')\n",
        ""
      ],
      "metadata": {
        "colab": {
          "base_uri": "https://localhost:8080/"
        },
        "id": "C3wSYEpZiKGQ",
        "outputId": "2476337a-83f6-4e31-b53b-7a545e5439db"
      },
      "execution_count": 39,
      "outputs": [
        {
          "output_type": "stream",
          "name": "stdout",
          "text": [
            "insira um ano aleatório: 2047\n",
            "não é um ano bissexto\n"
          ]
        }
      ]
    },
    {
      "cell_type": "code",
      "source": [
        "#Peça a quantidade de horas trabalhadas e o valor por hora. Se trabalhou até 40 horas, calcule o salário normalmente (horas × valor por hora). Se trabalhou mais de 40 horas, as horas extras devem ter um adicional de 50% (horas extras × valor por hora × 1.5). Crie um algoritmo em Python que realize esse cálculo corretamente.\n"
      ],
      "metadata": {
        "id": "OcSoPM_Bjwlh"
      },
      "execution_count": null,
      "outputs": []
    }
  ]
}