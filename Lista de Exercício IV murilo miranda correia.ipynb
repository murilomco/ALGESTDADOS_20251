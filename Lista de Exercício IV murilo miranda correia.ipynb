{
  "nbformat": 4,
  "nbformat_minor": 0,
  "metadata": {
    "colab": {
      "provenance": [],
      "authorship_tag": "ABX9TyOweOKf7M7/s4EIN5NPFtPR",
      "include_colab_link": true
    },
    "kernelspec": {
      "name": "python3",
      "display_name": "Python 3"
    },
    "language_info": {
      "name": "python"
    }
  },
  "cells": [
    {
      "cell_type": "markdown",
      "metadata": {
        "id": "view-in-github",
        "colab_type": "text"
      },
      "source": [
        "<a href=\"https://colab.research.google.com/github/murilomco/ALGESTDADOS_20251/blob/main/Lista%20de%20Exerc%C3%ADcio%20IV%20murilo%20miranda%20correia.ipynb\" target=\"_parent\"><img src=\"https://colab.research.google.com/assets/colab-badge.svg\" alt=\"Open In Colab\"/></a>"
      ]
    },
    {
      "cell_type": "markdown",
      "source": [
        "MURILO MIRANDA CORREIA"
      ],
      "metadata": {
        "id": "lPNh3B4xAnvF"
      }
    },
    {
      "cell_type": "code",
      "execution_count": 1,
      "metadata": {
        "colab": {
          "base_uri": "https://localhost:8080/"
        },
        "id": "_dpfSFWTAlqY",
        "outputId": "bac9cd58-7b43-4e5a-c8de-fdf9e43878db"
      },
      "outputs": [
        {
          "output_type": "stream",
          "name": "stdout",
          "text": [
            "Nº de pessoas para reserva: 7\n",
            "Serão necessárias 2 mesa(s).\n"
          ]
        }
      ],
      "source": [
        "np = int(input(\"Nº de pessoas para reserva: \"))\n",
        "mt = 4  # lugares por mesa\n",
        "mq = (np + mt - 1) // mt\n",
        "print(f\"Serão necessárias {mq} mesa(s).\")\n"
      ]
    },
    {
      "cell_type": "code",
      "source": [
        "while True:\n",
        "    p = input(\"Produto (ou 'sair'): \")\n",
        "    if p.lower() == 'sair':\n",
        "        break\n",
        "    q = int(input(\"Qtd: \"))\n",
        "    if q < 5:\n",
        "        print(f\"Estoque baixo de {p}, sugerir reposição.\")\n"
      ],
      "metadata": {
        "colab": {
          "base_uri": "https://localhost:8080/"
        },
        "id": "jXV5lvJNDFR_",
        "outputId": "a2e6f485-42d8-4174-caf2-4e4e67939e4a"
      },
      "execution_count": 2,
      "outputs": [
        {
          "name": "stdout",
          "output_type": "stream",
          "text": [
            "Produto (ou 'sair'): celular\n",
            "Qtd: 2\n",
            "Estoque baixo de celular, sugerir reposição.\n",
            "Produto (ou 'sair'): sair\n"
          ]
        }
      ]
    },
    {
      "cell_type": "code",
      "source": [
        "pts = 0\n",
        "qs = [\n",
        "    {\"p\": \"Capital do Brasil?\", \"op\": [\"a) SP\", \"b) RJ\", \"c) Brasília\"], \"r\": \"c\"},\n",
        "    {\"p\": \"2 + 2?\", \"op\": [\"a) 3\", \"b) 4\", \"c) 5\"], \"r\": \"b\"}\n",
        "]\n",
        "\n",
        "for q in qs:\n",
        "    print(q[\"p\"])\n",
        "    for o in q[\"op\"]:\n",
        "        print(o)\n",
        "    r = input(\"Resp: \").lower()\n",
        "    if r == q[\"r\"]:\n",
        "        pts += 1\n",
        "\n",
        "print(f\"Pontuação: {pts}/{len(qs)}\")\n",
        "if pts == len(qs):\n",
        "    print(\"Excelente!\")\n",
        "elif pts > 0:\n",
        "    print(\"Bom!\")\n",
        "else:\n",
        "    print(\"Precisa estudar!\")\n"
      ],
      "metadata": {
        "colab": {
          "base_uri": "https://localhost:8080/"
        },
        "id": "gQE2ynQ-DexP",
        "outputId": "facde0fd-05c1-4306-f464-8e1044034756"
      },
      "execution_count": 4,
      "outputs": [
        {
          "output_type": "stream",
          "name": "stdout",
          "text": [
            "Capital do Brasil?\n",
            "a) SP\n",
            "b) RJ\n",
            "c) Brasília\n",
            "Resp: c\n",
            "2 + 2?\n",
            "a) 3\n",
            "b) 4\n",
            "c) 5\n",
            "Resp: b\n",
            "Pontuação: 2/2\n",
            "Excelente!\n"
          ]
        }
      ]
    },
    {
      "cell_type": "code",
      "source": [
        "cod_correto = \"1234\"\n",
        "tent = 0\n",
        "while tent < 3:\n",
        "    cod = input(\"Código de acesso: \")\n",
        "    if cod == cod_correto:\n",
        "        print(\"Bem-vindo!\")\n",
        "        break\n",
        "    tent += 1\n",
        "else:\n",
        "    print(\"Acesso bloqueado.\")\n"
      ],
      "metadata": {
        "colab": {
          "base_uri": "https://localhost:8080/"
        },
        "id": "Ku1xIKjHD1VX",
        "outputId": "0edf2f7a-cd79-4217-83e8-ace53b44238e"
      },
      "execution_count": 5,
      "outputs": [
        {
          "output_type": "stream",
          "name": "stdout",
          "text": [
            "Código de acesso: 1234\n",
            "Bem-vindo!\n"
          ]
        }
      ]
    },
    {
      "cell_type": "code",
      "source": [
        "d = float(input(\"Distância (km): \"))\n",
        "t = float(input(\"Capacidade do tanque (L): \"))\n",
        "c = float(input(\"Consumo (km/L): \"))\n",
        "alc = t * c\n",
        "p = (d + alc - 1) // alc\n",
        "print(f\"Serão necessárias {int(p)} parada(s).\")\n"
      ],
      "metadata": {
        "colab": {
          "base_uri": "https://localhost:8080/"
        },
        "id": "YeT4i444D-EY",
        "outputId": "39ec3933-edea-4e20-e59f-4d64874b8751"
      },
      "execution_count": 6,
      "outputs": [
        {
          "output_type": "stream",
          "name": "stdout",
          "text": [
            "Distância (km): 200\n",
            "Capacidade do tanque (L): 80\n",
            "Consumo (km/L): 4\n",
            "Serão necessárias 1 parada(s).\n"
          ]
        }
      ]
    },
    {
      "cell_type": "code",
      "source": [
        "fs = []\n",
        "while True:\n",
        "    t = input(\"Título (ou 'fim'): \")\n",
        "    if t.lower() == 'fim':\n",
        "        break\n",
        "    n = float(input(\"Nota (0-10): \"))\n",
        "    fs.append((t, n))\n",
        "\n",
        "m = sum(n for _, n in fs) / len(fs)\n",
        "print(f\"Média: {m:.2f}\")\n",
        "print(\"Altamente recomendados:\")\n",
        "for t, n in fs:\n",
        "    if n > 8:\n",
        "        print(f\"- {t}\")\n"
      ],
      "metadata": {
        "colab": {
          "base_uri": "https://localhost:8080/"
        },
        "id": "nk-vs_OMEJMb",
        "outputId": "108e46ab-dee4-4ff4-fa10-ceb33de3c45e"
      },
      "execution_count": 7,
      "outputs": [
        {
          "output_type": "stream",
          "name": "stdout",
          "text": [
            "Título (ou 'fim'): Bladerunner 2049\n",
            "Nota (0-10): 10\n",
            "Título (ou 'fim'): fim\n",
            "Média: 10.00\n",
            "Altamente recomendados:\n",
            "- Bladerunner 2049\n"
          ]
        }
      ]
    },
    {
      "cell_type": "code",
      "source": [
        "ts = []\n",
        "for h in range(24):\n",
        "    t = float(input(f\"T em {h}h: \"))\n",
        "    ts.append(t)\n",
        "\n",
        "m = sum(ts)/24\n",
        "ma = max(ts)\n",
        "mi = min(ts)\n",
        "print(f\"Média: {m:.1f}°C | Máx: {ma}°C | Mín: {mi}°C\")\n",
        "if any(t > 30 for t in ts):\n",
        "    print(\"Alerta: Temperatura > 30°C\")\n",
        "if any(t < 15 for t in ts):\n",
        "    print(\"Alerta: Temperatura < 15°C\")"
      ],
      "metadata": {
        "colab": {
          "base_uri": "https://localhost:8080/"
        },
        "id": "oQiOgdCPEZjl",
        "outputId": "35ad9404-dda0-4bfd-8922-6bc1fd1e5dc4"
      },
      "execution_count": 12,
      "outputs": [
        {
          "output_type": "stream",
          "name": "stdout",
          "text": [
            "T em 0h: 16\n",
            "T em 1h: 17\n",
            "T em 2h: 18\n",
            "T em 3h: 19\n",
            "T em 4h: 20\n",
            "T em 5h: 21\n",
            "T em 6h: 22\n",
            "T em 7h: 23\n",
            "T em 8h: 24\n",
            "T em 9h: 25\n",
            "T em 10h: 26\n",
            "T em 11h: 27\n",
            "T em 12h: 27\n",
            "T em 13h: 27\n",
            "T em 14h: 27\n",
            "T em 15h: 27\n",
            "T em 16h: 28\n",
            "T em 17h: 29\n",
            "T em 18h: 22\n",
            "T em 19h: 21\n",
            "T em 20h: 20\n",
            "T em 21h: 19\n",
            "T em 22h: 18\n",
            "T em 23h: 17\n",
            "Média: 22.5°C | Máx: 29.0°C | Mín: 16.0°C\n"
          ]
        }
      ]
    },
    {
      "cell_type": "code",
      "source": [
        "livros = []\n",
        "\n",
        "while True:\n",
        "    t = input(\"Título (ou 'sair'): \")\n",
        "    if t.lower() == 'sair':\n",
        "        break\n",
        "    a = input(\"Autor: \")\n",
        "    livros.append((t, a))\n",
        "\n",
        "while True:\n",
        "    busca = input(\"Buscar autor (ou 'fim'): \")\n",
        "    if busca.lower() == 'fim':\n",
        "        break\n",
        "    for t, a in livros:\n",
        "        if a.lower() == busca.lower():\n",
        "            print(f\"- {t}\")\n"
      ],
      "metadata": {
        "colab": {
          "base_uri": "https://localhost:8080/"
        },
        "id": "9Uf1u8MIFN6C",
        "outputId": "1199a08b-6e0b-446e-ace2-bfb1d9ccefc5"
      },
      "execution_count": 14,
      "outputs": [
        {
          "name": "stdout",
          "output_type": "stream",
          "text": [
            "Título (ou 'sair'): O caminho dos reis\n",
            "Autor: Brandon Sanderson\n",
            "Título (ou 'sair'): sair\n",
            "Buscar autor (ou 'fim'): fim\n"
          ]
        }
      ]
    },
    {
      "cell_type": "code",
      "source": [
        "ts = []\n",
        "while True:\n",
        "    t = input(\"Tarefa (ou 'fim'): \")\n",
        "    if t.lower() == 'fim':\n",
        "        break\n",
        "    p = input(\"Prioridade (alto/médio/baixo): \").lower()\n",
        "    ts.append((p, t))\n",
        "\n",
        "ts.sort()\n",
        "print(\"Tarefas organizadas:\")\n",
        "for p, t in ts:\n",
        "    print(f\"[{p.upper()}] {t}\")\n",
        "\n",
        "con = input(\"Marcar tarefa concluída (s/n)? \")\n",
        "if con.lower() == 's':\n",
        "    f = input(\"Nome da tarefa: \")\n",
        "    ts = [t for t in ts if t[1] != f]\n",
        "    print(\"Atualizado.\")\n",
        ""
      ],
      "metadata": {
        "colab": {
          "base_uri": "https://localhost:8080/"
        },
        "id": "Vma1fmrnF3ki",
        "outputId": "ffc52f44-66e8-41ce-ada3-9dc71a219ec7"
      },
      "execution_count": 15,
      "outputs": [
        {
          "name": "stdout",
          "output_type": "stream",
          "text": [
            "Tarefa (ou 'fim'): jogar lixo fora\n",
            "Prioridade (alto/médio/baixo): médio\n",
            "Tarefa (ou 'fim'): lavar louça\n",
            "Prioridade (alto/médio/baixo): alto\n",
            "Tarefa (ou 'fim'): fim\n",
            "Tarefas organizadas:\n",
            "[ALTO] lavar louça\n",
            "[MÉDIO] jogar lixo fora\n",
            "Marcar tarefa concluída (s/n)? não\n"
          ]
        }
      ]
    },
    {
      "cell_type": "code",
      "source": [
        "agua = []\n",
        "ex = []\n",
        "\n",
        "for d in range(7):\n",
        "    a = int(input(f\"Dia {d+1} - Copos de água: \"))\n",
        "    e = int(input(f\"Dia {d+1} - Min de exercício: \"))\n",
        "    agua.append(a)\n",
        "    ex.append(e)\n",
        "\n",
        "ma = sum(agua) / 7\n",
        "me = sum(ex) / 7\n",
        "\n",
        "print(f\"Média diária de água: {ma:.1f} copos\")\n",
        "print(f\"Média diária de exercício: {me:.1f} min\")\n",
        "\n",
        "if ma >= 8:\n",
        "    print(\" Ótimo! Você está bebendo água suficiente.\")\n",
        "else:\n",
        "    print(\" Atenção: Você deve beber mais água (mínimo recomendado: 8 copos/dia).\")\n",
        "\n",
        "if me >= 30:\n",
        "    print(\" Muito bem! Você está se exercitando o suficiente.\")\n",
        "else:\n",
        "    print(\" Alerta: Faça mais exercícios físicos (mínimo recomendado: 30 minutos/dia).\")\n"
      ],
      "metadata": {
        "colab": {
          "base_uri": "https://localhost:8080/"
        },
        "id": "KpYh-1y2GQtB",
        "outputId": "e6594146-f577-4bf0-affe-77bad07dc014"
      },
      "execution_count": 20,
      "outputs": [
        {
          "output_type": "stream",
          "name": "stdout",
          "text": [
            "Dia 1 - Copos de água: 49\n",
            "Dia 1 - Min de exercício: 58\n",
            "Dia 2 - Copos de água: 38\n",
            "Dia 2 - Min de exercício: 69\n",
            "Dia 3 - Copos de água: 27\n",
            "Dia 3 - Min de exercício: 49\n",
            "Dia 4 - Copos de água: 58\n",
            "Dia 4 - Min de exercício: 39\n",
            "Dia 5 - Copos de água: 48\n",
            "Dia 5 - Min de exercício: 57\n",
            "Dia 6 - Copos de água: 37\n",
            "Dia 6 - Min de exercício: 59\n",
            "Dia 7 - Copos de água: 32\n",
            "Dia 7 - Min de exercício: 57\n",
            "Média diária de água: 41.3 copos\n",
            "Média diária de exercício: 55.4 min\n",
            " Ótimo! Você está bebendo água suficiente.\n",
            " Muito bem! Você está se exercitando o suficiente.\n"
          ]
        }
      ]
    }
  ]
}
