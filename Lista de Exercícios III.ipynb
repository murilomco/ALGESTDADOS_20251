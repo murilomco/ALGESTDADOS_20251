{
  "nbformat": 4,
  "nbformat_minor": 0,
  "metadata": {
    "colab": {
      "provenance": [],
      "authorship_tag": "ABX9TyO1EfK9bvNkaF3PoOFUdaWj",
      "include_colab_link": true
    },
    "kernelspec": {
      "name": "python3",
      "display_name": "Python 3"
    },
    "language_info": {
      "name": "python"
    }
  },
  "cells": [
    {
      "cell_type": "markdown",
      "metadata": {
        "id": "view-in-github",
        "colab_type": "text"
      },
      "source": [
        "<a href=\"https://colab.research.google.com/github/murilomco/ALGESTDADOS_20251/blob/main/Lista%20de%20Exerc%C3%ADcios%20III.ipynb\" target=\"_parent\"><img src=\"https://colab.research.google.com/assets/colab-badge.svg\" alt=\"Open In Colab\"/></a>"
      ]
    },
    {
      "cell_type": "code",
      "execution_count": 2,
      "metadata": {
        "id": "mMzuXxviXOyf",
        "colab": {
          "base_uri": "https://localhost:8080/"
        },
        "outputId": "9ef6b2f2-4485-484e-d2f0-5ff577379992"
      },
      "outputs": [
        {
          "output_type": "stream",
          "name": "stdout",
          "text": [
            "N1: 1\n",
            "N2: 2\n",
            "N3: 3\n",
            "N4: 4\n",
            "N5: 5\n",
            "N6: 5\n",
            "N7: 1\n",
            "N8: 2\n",
            "N9: 3\n",
            "N10: 4\n",
            "N11: 6\n",
            "N12: 9\n",
            "N13: 2\n",
            "N14: 10\n",
            "N15: 2\n",
            "Sem rep: [1, 2, 3, 4, 5, 6, 9, 10]\n"
          ]
        }
      ],
      "source": [
        "l = [int(input(f\"N{i+1}: \")) for i in range(15)]\n",
        "r = []\n",
        "for n in l:\n",
        "    if n not in r:\n",
        "        r.append(n)\n",
        "print(\"Sem rep:\", r)\n"
      ]
    },
    {
      "cell_type": "code",
      "source": [
        "n = [input(f\"N{i+1}: \") for i in range(10)]\n",
        "i = [int(input(f\"I de {n[i]}: \")) for i in range(10)]\n",
        "mv = n[i.index(max(i))]\n",
        "print(\"Mais velho:\", mv)\n"
      ],
      "metadata": {
        "id": "wrFw6-ESJBl1",
        "colab": {
          "base_uri": "https://localhost:8080/"
        },
        "outputId": "fe096c91-cb07-4018-b9db-ac92fcc6a59d"
      },
      "execution_count": 10,
      "outputs": [
        {
          "output_type": "stream",
          "name": "stdout",
          "text": [
            "N1: murilo\n",
            "N2: pedro\n",
            "N3: joao\n",
            "N4: gabriel\n",
            "N5: victor\n",
            "N6: rafael\n",
            "N7: samurai\n",
            "N8: davi\n",
            "N9: david\n",
            "N10: marcos\n",
            "I de murilo: 19\n",
            "I de pedro: 18\n",
            "I de joao: 20\n",
            "I de gabriel: 38\n",
            "I de victor: 29\n",
            "I de rafael: 10\n",
            "I de samurai: 29\n",
            "I de davi: 48\n",
            "I de david: 29\n",
            "I de marcos: 10\n",
            "Mais velho: davi\n"
          ]
        }
      ]
    },
    {
      "cell_type": "code",
      "source": [
        "l = [int(input(f\"N{i+1}: \")) for i in range(10)]\n",
        "m = [x//3 if x%2 else x//2 for x in l]\n",
        "print(\"Modif:\", m)\n"
      ],
      "metadata": {
        "id": "WxHCIz65JBjU",
        "colab": {
          "base_uri": "https://localhost:8080/"
        },
        "outputId": "63ad7551-a716-4f3b-9b54-5e6fcd5af8bb"
      },
      "execution_count": 11,
      "outputs": [
        {
          "output_type": "stream",
          "name": "stdout",
          "text": [
            "N1: 1\n",
            "N2: 2\n",
            "N3: 3\n",
            "N4: 4\n",
            "N5: 5\n",
            "N6: 6\n",
            "N7: 7\n",
            "N8: 8\n",
            "N9: 9\n",
            "N10: 0\n",
            "Modif: [0, 1, 1, 2, 1, 3, 2, 4, 3, 0]\n"
          ]
        }
      ]
    },
    {
      "cell_type": "code",
      "source": [
        "f = input(\"Frase: \").split()\n",
        "v = 'aeiou'\n",
        "r = [p for p in f if p[0].lower() in v]\n",
        "print(\"Começam com vogal:\", r)\n"
      ],
      "metadata": {
        "id": "bDrKOtcEJBer",
        "colab": {
          "base_uri": "https://localhost:8080/"
        },
        "outputId": "ae4e8dda-5a05-4cd1-9bb4-77e272b9ee01"
      },
      "execution_count": 12,
      "outputs": [
        {
          "output_type": "stream",
          "name": "stdout",
          "text": [
            "Frase: vou jogar valorex one tap bb\n",
            "Começam com vogal: ['one']\n"
          ]
        }
      ]
    },
    {
      "cell_type": "code",
      "source": [
        "def p(n):\n",
        "    if n < 2: return False\n",
        "    for i in range(2, int(n**0.5)+1):\n",
        "        if n % i == 0: return False\n",
        "    return True\n",
        "\n",
        "l = [int(input(f\"N{i+1}: \")) for i in range(10)]\n",
        "pr = [x for x in l if p(x)]\n",
        "print(\"Primos:\", pr)\n"
      ],
      "metadata": {
        "id": "OawPNVIeJBb8",
        "colab": {
          "base_uri": "https://localhost:8080/"
        },
        "outputId": "aec016da-40c5-4f1f-bd5c-87661e0f45b8"
      },
      "execution_count": 14,
      "outputs": [
        {
          "output_type": "stream",
          "name": "stdout",
          "text": [
            "N1: 1\n",
            "N2: 2\n",
            "N3: 3\n",
            "N4: 4\n",
            "N5: 5\n",
            "N6: 6\n",
            "N7: 7\n",
            "N8: 8\n",
            "N9: 9\n",
            "N10: 0\n",
            "Primos: [2, 3, 5, 7]\n"
          ]
        }
      ]
    },
    {
      "cell_type": "code",
      "source": [
        "9\n",
        "l = [input(f\"E{i+1}: \") for i in range(8)]\n",
        "print(\"Palíndroma\" if l == l[::-1] else \"Não é\")\n"
      ],
      "metadata": {
        "id": "wxn3Pj0_JBZe",
        "colab": {
          "base_uri": "https://localhost:8080/"
        },
        "outputId": "30c1bfe1-220f-4462-89ab-4f96a9974340"
      },
      "execution_count": 15,
      "outputs": [
        {
          "output_type": "stream",
          "name": "stdout",
          "text": [
            "E1: 1\n",
            "E2: 2\n",
            "E3: 3\n",
            "E4: 4\n",
            "E5: 5\n",
            "E6: 6\n",
            "E7: 7\n",
            "E8: 8\n",
            "Não é\n"
          ]
        }
      ]
    },
    {
      "cell_type": "code",
      "source": [
        "import random as r\n",
        "a = r.sample(range(1, 101), 10)\n",
        "b = r.sample(range(1, 101), 10)\n",
        "c = list(set(a) & set(b))\n",
        "print(a)\n",
        "print(b)\n",
        "print(\"Inter:\", c)\n"
      ],
      "metadata": {
        "id": "1ipaEEERJBWM",
        "colab": {
          "base_uri": "https://localhost:8080/"
        },
        "outputId": "6eed4b20-a173-4bb9-d9c7-cb76045d722d"
      },
      "execution_count": 31,
      "outputs": [
        {
          "output_type": "stream",
          "name": "stdout",
          "text": [
            "[74, 84, 47, 42, 46, 37, 100, 8, 31, 57]\n",
            "[49, 42, 97, 71, 96, 99, 43, 4, 34, 57]\n",
            "Inter: [57, 42]\n"
          ]
        }
      ]
    },
    {
      "cell_type": "code",
      "source": [
        "import random as r\n",
        "s = sorted(r.sample(range(1, 61), 6))\n",
        "print(\"Sorteio:\", s)\n"
      ],
      "metadata": {
        "id": "aZXlCuk4JBT0",
        "colab": {
          "base_uri": "https://localhost:8080/"
        },
        "outputId": "180965ba-6f60-4f32-ca71-97b610fc8f94"
      },
      "execution_count": 32,
      "outputs": [
        {
          "output_type": "stream",
          "name": "stdout",
          "text": [
            "Sorteio: [7, 16, 17, 39, 42, 52]\n"
          ]
        }
      ]
    },
    {
      "cell_type": "code",
      "source": [
        "l = [int(input(f\"N{i+1}: \")) for i in range(10)]\n",
        "s = 0\n",
        "r = []\n",
        "for n in l:\n",
        "    s += n\n",
        "    r.append(s)\n",
        "print(\"Somatório:\", r)\n"
      ],
      "metadata": {
        "id": "Vkf4W4PSJBQ0",
        "colab": {
          "base_uri": "https://localhost:8080/"
        },
        "outputId": "f0cefad4-cb66-45d2-8ade-cfb0359f8e54"
      },
      "execution_count": 33,
      "outputs": [
        {
          "output_type": "stream",
          "name": "stdout",
          "text": [
            "N1: 1\n",
            "N2: 2\n",
            "N3: 3\n",
            "N4: 4\n",
            "N5: 5\n",
            "N6: 6\n",
            "N7: 7\n",
            "N8: 8\n",
            "N9: 9\n",
            "N10: 10\n",
            "Somatório: [1, 3, 6, 10, 15, 21, 28, 36, 45, 55]\n"
          ]
        }
      ]
    },
    {
      "cell_type": "code",
      "source": [
        "l = [input(f\"N{i+1}: \") for i in range(5)]\n",
        "r = [x for x in l if len(x) <= 10]\n",
        "print(\"Filtrados:\", r)\n"
      ],
      "metadata": {
        "id": "Br0X5bE6JBN8",
        "colab": {
          "base_uri": "https://localhost:8080/"
        },
        "outputId": "6271f99b-6908-49f1-8089-d5f245bf604f"
      },
      "execution_count": 34,
      "outputs": [
        {
          "output_type": "stream",
          "name": "stdout",
          "text": [
            "N1: murilo\n",
            "N2: miranda\n",
            "N3: correia\n",
            "N4: Pneumoultramicroscopicossilicovulcanoconiótico\n",
            "N5: otorrinolaringologista\n",
            "Filtrados: ['murilo', 'miranda', 'correia']\n"
          ]
        }
      ]
    },
    {
      "cell_type": "code",
      "source": [
        "m = [[int(input(f\"M[{i}][{j}]: \")) for j in range(4)] for i in range(4)]\n",
        "s = sum(m[i][3-i] for i in range(4))\n",
        "print(\"Soma diag 2ª:\", s)\n"
      ],
      "metadata": {
        "id": "OgpbvJ4IJBLg",
        "colab": {
          "base_uri": "https://localhost:8080/"
        },
        "outputId": "58d83b1c-f3c6-48f0-8fc8-d05b0e7a0ea8"
      },
      "execution_count": 35,
      "outputs": [
        {
          "output_type": "stream",
          "name": "stdout",
          "text": [
            "M[0][0]: 1\n",
            "M[0][1]: 2\n",
            "M[0][2]: 3\n",
            "M[0][3]: 4\n",
            "M[1][0]: 5\n",
            "M[1][1]: 6\n",
            "M[1][2]: 7\n",
            "M[1][3]: 8\n",
            "M[2][0]: 9\n",
            "M[2][1]: 0\n",
            "M[2][2]: 9\n",
            "M[2][3]: 8\n",
            "M[3][0]: 7\n",
            "M[3][1]: 6\n",
            "M[3][2]: 5\n",
            "M[3][3]: 4\n",
            "Soma diag 2ª: 18\n"
          ]
        }
      ]
    },
    {
      "cell_type": "code",
      "source": [
        "import random as r\n",
        "m = [[r.randint(1, 99) for _ in range(5)] for _ in range(5)]\n",
        "med = [sum(l)/5 for l in m]\n",
        "print(m)\n",
        "print(\"Médias:\", med)\n"
      ],
      "metadata": {
        "id": "i13ymTYfJBI7",
        "colab": {
          "base_uri": "https://localhost:8080/"
        },
        "outputId": "22313a62-a8aa-454e-928e-238c46d75c9e"
      },
      "execution_count": 39,
      "outputs": [
        {
          "output_type": "stream",
          "name": "stdout",
          "text": [
            "[[89, 98, 90, 76, 19], [55, 16, 5, 76, 57], [2, 25, 63, 35, 20], [92, 41, 11, 69, 43], [37, 69, 81, 23, 65]]\n",
            "Médias: [74.4, 41.8, 29.0, 51.2, 55.0]\n"
          ]
        }
      ]
    },
    {
      "cell_type": "code",
      "source": [
        "m = [[int(input(f\"M[{i}][{j}]: \")) for j in range(3)] for i in range(3)]\n",
        "ok = all(m[i][j] == (1 if i == j else 0) for i in range(3) for j in range(3))\n",
        "print(\"Identidade?\", ok)\n"
      ],
      "metadata": {
        "id": "E58Pnw4JJBF3",
        "colab": {
          "base_uri": "https://localhost:8080/"
        },
        "outputId": "83278cf3-a227-448e-ef45-2068763f79f8"
      },
      "execution_count": 40,
      "outputs": [
        {
          "output_type": "stream",
          "name": "stdout",
          "text": [
            "M[0][0]: 1\n",
            "M[0][1]: 2\n",
            "M[0][2]: 4\n",
            "M[1][0]: 5\n",
            "M[1][1]: 4\n",
            "M[1][2]: 3\n",
            "M[2][0]: 2\n",
            "M[2][1]: 1\n",
            "M[2][2]: 4\n",
            "Identidade? False\n"
          ]
        }
      ]
    },
    {
      "cell_type": "code",
      "source": [
        "m = [[int(input(f\"M[{i}][{j}]: \")) for j in range(3)] for i in range(3)]\n",
        "ok = all(m[i][j] == m[j][i] for i in range(3) for j in range(3))\n",
        "print(\"Simétrica?\", ok)\n"
      ],
      "metadata": {
        "id": "5I6J4X0GJBDN",
        "colab": {
          "base_uri": "https://localhost:8080/"
        },
        "outputId": "ca9d1ea3-44bf-4893-8567-c83bec3d4754"
      },
      "execution_count": 41,
      "outputs": [
        {
          "output_type": "stream",
          "name": "stdout",
          "text": [
            "M[0][0]: 0\n",
            "M[0][1]: 0\n",
            "M[0][2]: 0\n",
            "M[1][0]: 0\n",
            "M[1][1]: 0\n",
            "M[1][2]: 0\n",
            "M[2][0]: 0\n",
            "M[2][1]: 0\n",
            "M[2][2]: 0\n",
            "Simétrica? True\n"
          ]
        }
      ]
    },
    {
      "cell_type": "code",
      "source": [
        "m = [[i*j for j in range(3)] for i in range(5)]\n",
        "for l in m: print(l)\n"
      ],
      "metadata": {
        "id": "lBuyjzPoJBA0",
        "colab": {
          "base_uri": "https://localhost:8080/"
        },
        "outputId": "38114350-721a-44a8-f68f-fe2a1532dd91"
      },
      "execution_count": 42,
      "outputs": [
        {
          "output_type": "stream",
          "name": "stdout",
          "text": [
            "[0, 0, 0]\n",
            "[0, 1, 2]\n",
            "[0, 2, 4]\n",
            "[0, 3, 6]\n",
            "[0, 4, 8]\n"
          ]
        }
      ]
    },
    {
      "cell_type": "code",
      "source": [
        "m = [[int(input(f\"M[{i}][{j}]: \")) for j in range(4)] for i in range(4)]\n",
        "r = [min([m[i][j] for i in range(4)]) for j in range(4)]\n",
        "print(\"Menores colunas:\", r)\n"
      ],
      "metadata": {
        "id": "MXug6Rg-JA-E",
        "colab": {
          "base_uri": "https://localhost:8080/"
        },
        "outputId": "23fc3066-6983-409f-ae5f-d1c413e1d28b"
      },
      "execution_count": 44,
      "outputs": [
        {
          "output_type": "stream",
          "name": "stdout",
          "text": [
            "M[0][0]: 1\n",
            "M[0][1]: 2\n",
            "M[0][2]: 3\n",
            "M[0][3]: 4\n",
            "M[1][0]: 5\n",
            "M[1][1]: 6\n",
            "M[1][2]: 7\n",
            "M[1][3]: 8\n",
            "M[2][0]: 9\n",
            "M[2][1]: 0\n",
            "M[2][2]: 9\n",
            "M[2][3]: 8\n",
            "M[3][0]: 7\n",
            "M[3][1]: 6\n",
            "M[3][2]: 5\n",
            "M[3][3]: 4\n",
            "Menores colunas: [1, 0, 3, 4]\n"
          ]
        }
      ]
    },
    {
      "cell_type": "code",
      "source": [
        "m = [[float(input(f\"M[{i}][{j}]: \")) for j in range(3)] for i in range(3)]\n",
        "d = (m[0][0]*(m[1][1]*m[2][2] - m[1][2]*m[2][1]) -\n",
        "     m[0][1]*(m[1][0]*m[2][2] - m[1][2]*m[2][0]) +\n",
        "     m[0][2]*(m[1][0]*m[2][1] - m[1][1]*m[2][0]))\n",
        "print(\"Det:\", d)\n"
      ],
      "metadata": {
        "id": "NITwHq71JA7M",
        "colab": {
          "base_uri": "https://localhost:8080/"
        },
        "outputId": "d437b79d-5c89-4421-b3fd-f571cb56fabb"
      },
      "execution_count": 45,
      "outputs": [
        {
          "output_type": "stream",
          "name": "stdout",
          "text": [
            "M[0][0]: 1\n",
            "M[0][1]: 2\n",
            "M[0][2]: 3\n",
            "M[1][0]: 4\n",
            "M[1][1]: 5\n",
            "M[1][2]: 6\n",
            "M[2][0]: 7\n",
            "M[2][1]: 8\n",
            "M[2][2]: 9\n",
            "Det: 0.0\n"
          ]
        }
      ]
    },
    {
      "cell_type": "code",
      "source": [
        "a = [[int(input(f\"A[{i}][{j}]: \")) for j in range(3)] for i in range(3)]\n",
        "b = [[int(input(f\"B[{i}][{j}]: \")) for j in range(3)] for i in range(3)]\n",
        "s = [[a[i][j] + b[i][j] for j in range(3)] for i in range(3)]\n",
        "d = [[a[i][j] - b[i][j] for j in range(3)] for i in range(3)]\n",
        "print(\"Soma:\", s)\n",
        "print(\"Dif:\", d)\n"
      ],
      "metadata": {
        "id": "SzZJYngaJA4d",
        "colab": {
          "base_uri": "https://localhost:8080/"
        },
        "outputId": "0a74a598-d4ca-4ef7-db07-4536f89a567f"
      },
      "execution_count": 47,
      "outputs": [
        {
          "output_type": "stream",
          "name": "stdout",
          "text": [
            "A[0][0]: 1\n",
            "A[0][1]: 7\n",
            "A[0][2]: 5\n",
            "A[1][0]: 9\n",
            "A[1][1]: 34\n",
            "A[1][2]: 9\n",
            "A[2][0]: 74\n",
            "A[2][1]: 09\n",
            "A[2][2]: 56\n",
            "B[0][0]: 0\n",
            "B[0][1]: 8\n",
            "B[0][2]: 45\n",
            "B[1][0]: 89\n",
            "B[1][1]: 34\n",
            "B[1][2]: 09\n",
            "B[2][0]: 34\n",
            "B[2][1]: 90\n",
            "B[2][2]: 46\n",
            "Soma: [[1, 15, 50], [98, 68, 18], [108, 99, 102]]\n",
            "Dif: [[1, -1, -40], [-80, 0, 0], [40, -81, 10]]\n"
          ]
        }
      ]
    },
    {
      "cell_type": "code",
      "source": [
        "a = set(int(input(f\"A{i+1}: \")) for i in range(10))\n",
        "b = set(int(input(f\"B{i+1}: \")) for i in range(10))\n",
        "print(\"∩:\", a & b)\n",
        "print(\"∪:\", a | b)\n",
        "print(\"A-B:\", a - b)\n",
        "print(\"B-A:\", b - a)\n"
      ],
      "metadata": {
        "id": "ym-U3JW4JA17",
        "colab": {
          "base_uri": "https://localhost:8080/"
        },
        "outputId": "28e73915-57f0-4f94-c104-48454b2133e9"
      },
      "execution_count": 48,
      "outputs": [
        {
          "output_type": "stream",
          "name": "stdout",
          "text": [
            "A1: 1\n",
            "A2: 2\n",
            "A3: 3\n",
            "A4: 4\n",
            "A5: 5\n",
            "A6: 6\n",
            "A7: 7\n",
            "A8: 8\n",
            "A9: 9\n",
            "A10: 10\n",
            "B1: 1\n",
            "B2: 2\n",
            "B3: 3\n",
            "B4: 4\n",
            "B5: 5\n",
            "B6: 6\n",
            "B7: 7\n",
            "B8: 8\n",
            "B9: 9\n",
            "B10: 10\n",
            "∩: {1, 2, 3, 4, 5, 6, 7, 8, 9, 10}\n",
            "∪: {1, 2, 3, 4, 5, 6, 7, 8, 9, 10}\n",
            "A-B: set()\n",
            "B-A: set()\n"
          ]
        }
      ]
    },
    {
      "cell_type": "code",
      "source": [
        "f = input(\"Frase: \")\n",
        "s = set(c.lower() for c in f if c.isalpha())\n",
        "print(\"Letras:\", s)\n"
      ],
      "metadata": {
        "id": "Ots6mIEsJAzU",
        "colab": {
          "base_uri": "https://localhost:8080/"
        },
        "outputId": "49d6f05b-7bae-4bad-ba55-691899129e59"
      },
      "execution_count": 49,
      "outputs": [
        {
          "output_type": "stream",
          "name": "stdout",
          "text": [
            "Frase: jogar um valorex\n",
            "Letras: {'u', 'g', 'l', 'o', 'j', 'r', 'e', 'm', 'v', 'x', 'a'}\n"
          ]
        }
      ]
    },
    {
      "cell_type": "code",
      "source": [
        "s = {x for x in range(1, 101) if x % 2 and x % 3}\n",
        "print(\"1-100 sem múlt. de 2 ou 3:\", s)\n"
      ],
      "metadata": {
        "id": "7R8BoLF1JAws",
        "colab": {
          "base_uri": "https://localhost:8080/"
        },
        "outputId": "733453e7-6fbf-44d9-99a7-796c5c6cb4ed"
      },
      "execution_count": 50,
      "outputs": [
        {
          "output_type": "stream",
          "name": "stdout",
          "text": [
            "1-100 sem múlt. de 2 ou 3: {1, 5, 7, 11, 13, 17, 19, 23, 25, 29, 31, 35, 37, 41, 43, 47, 49, 53, 55, 59, 61, 65, 67, 71, 73, 77, 79, 83, 85, 89, 91, 95, 97}\n"
          ]
        }
      ]
    },
    {
      "cell_type": "code",
      "source": [
        "p = [input(f\"P{i+1}: \") for i in range(10)]\n",
        "s = {x for x in p if len(x) > 5}\n",
        "print(\"Distintas >5:\", s)\n"
      ],
      "metadata": {
        "id": "SRfk3D4bJAuc",
        "colab": {
          "base_uri": "https://localhost:8080/"
        },
        "outputId": "9570265c-349a-4765-b532-897158521ac9"
      },
      "execution_count": 51,
      "outputs": [
        {
          "output_type": "stream",
          "name": "stdout",
          "text": [
            "P1: murilo\n",
            "P2: miranda\n",
            "P3: correia\n",
            "P4: estudar\n",
            "P5: é\n",
            "P6: bom\n",
            "P7: né\n",
            "P8: viado\n",
            "P9: victor\n",
            "P10: gabriel\n",
            "Distintas >5: {'estudar', 'victor', 'gabriel', 'miranda', 'murilo', 'correia'}\n"
          ]
        }
      ]
    },
    {
      "cell_type": "code",
      "source": [
        "a = set(map(int, input(\"A: \").split()))\n",
        "b = set(map(int, input(\"B: \").split()))\n",
        "print(\"A é subjunto de B?\", a <= b)\n",
        "print(\"B é subjunto de A?\", b <= a)\n"
      ],
      "metadata": {
        "id": "cD7mxFY9JArk",
        "colab": {
          "base_uri": "https://localhost:8080/"
        },
        "outputId": "07393334-b5d0-4505-95de-ae2d54409cbf"
      },
      "execution_count": 54,
      "outputs": [
        {
          "output_type": "stream",
          "name": "stdout",
          "text": [
            "A: 1675\n",
            "B: 1675\n",
            "A é subjunto de B? True\n",
            "B é subjunto de A? True\n"
          ]
        }
      ]
    },
    {
      "cell_type": "code",
      "source": [
        "s = set(map(int, input(\"Números: \").split()))\n",
        "qp = {x for x in s if int(x**0.5)**2 == x}\n",
        "print(\"Quadrados:\", qp)\n"
      ],
      "metadata": {
        "id": "32pUUfSHJApG",
        "colab": {
          "base_uri": "https://localhost:8080/"
        },
        "outputId": "39c5d910-5ea9-4ba2-aae7-eff1c67e4e17"
      },
      "execution_count": 56,
      "outputs": [
        {
          "output_type": "stream",
          "name": "stdout",
          "text": [
            "Números: 1 2 3 4 5 6 7 8 9 10\n",
            "Quadrados: {1, 4, 9}\n"
          ]
        }
      ]
    },
    {
      "cell_type": "code",
      "source": [
        "f = {input(f\"N{i+1}: \"): int(input(\"Salário: \")) for i in range(5)}\n",
        "for k in f:\n",
        "    if f[k] < 2000:\n",
        "        f[k] *= 1.10\n",
        "print(\"Atualizado:\", f)\n"
      ],
      "metadata": {
        "id": "IclP-dIrJAmU",
        "colab": {
          "base_uri": "https://localhost:8080/"
        },
        "outputId": "bc7ae99e-26fa-42c5-8528-6d4bc5381383"
      },
      "execution_count": 61,
      "outputs": [
        {
          "output_type": "stream",
          "name": "stdout",
          "text": [
            "N1: murilo\n",
            "Salário: 1900\n",
            "N2: victor\n",
            "Salário: 5000\n",
            "N3: joao\n",
            "Salário: 500\n",
            "N4: samurai\n",
            "Salário: 0\n",
            "N5: mrl\n",
            "Salário: 100000\n",
            "Atualizado: {'murilo': 2090.0, 'victor': 5000, 'joao': 550.0, 'samurai': 0.0, 'mrl': 100000}\n"
          ]
        }
      ]
    },
    {
      "cell_type": "code",
      "source": [
        "a = {}\n",
        "for i in range(5):\n",
        "    n = input(f\"A{i+1}: \")\n",
        "    nt = [float(input(f\"N{j+1}: \")) for j in range(3)]\n",
        "    a[n] = nt\n",
        "for k, v in a.items():\n",
        "    print(f\"{k}: {sum(v)/3:.2f}\")\n"
      ],
      "metadata": {
        "id": "B3OYz5YhJAjc",
        "colab": {
          "base_uri": "https://localhost:8080/"
        },
        "outputId": "a3082299-48fb-4564-856a-e9c93a0a4e56"
      },
      "execution_count": 62,
      "outputs": [
        {
          "output_type": "stream",
          "name": "stdout",
          "text": [
            "A1: murilo\n",
            "N1: 9\n",
            "N2: 8\n",
            "N3: 10\n",
            "A2: joao\n",
            "N1: 9\n",
            "N2: 9\n",
            "N3: 9\n",
            "A3: samurai\n",
            "N1: 6\n",
            "N2: 7\n",
            "N3: 8\n",
            "A4: victor\n",
            "N1: 10\n",
            "N2: 10\n",
            "N3: 10\n",
            "A5: mrl\n",
            "N1: 1\n",
            "N2: 1\n",
            "N3: 1\n",
            "murilo: 9.00\n",
            "joao: 9.00\n",
            "samurai: 7.00\n",
            "victor: 10.00\n",
            "mrl: 1.00\n"
          ]
        }
      ]
    },
    {
      "cell_type": "code",
      "source": [
        "d = {\"feliz\": [\"alegre\", \"contente\"], \"triste\": [\"abatido\", \"melancólico\"]}\n",
        "p = input(\"Palavra: \")\n",
        "print(\"Sinônimos:\", d.get(p, \"Nenhum.\"))\n"
      ],
      "metadata": {
        "id": "m-wb0guDJAg0",
        "colab": {
          "base_uri": "https://localhost:8080/"
        },
        "outputId": "545a6340-4fe3-49a0-e4fb-7c5f9d078e30"
      },
      "execution_count": 65,
      "outputs": [
        {
          "output_type": "stream",
          "name": "stdout",
          "text": [
            "Palavra: cortar\n",
            "Sinônimos: Nenhum.\n"
          ]
        }
      ]
    },
    {
      "cell_type": "code",
      "source": [
        "p = [input(f\"P{i+1}: \") for i in range(10)]\n",
        "d = {}\n",
        "for x in p:\n",
        "    l = x[0].lower()\n",
        "    d.setdefault(l, []).append(x)\n",
        "print(\"Dict:\", d)\n"
      ],
      "metadata": {
        "id": "ffW1Y8gJJAd1",
        "colab": {
          "base_uri": "https://localhost:8080/"
        },
        "outputId": "1d4ca6df-6924-4f62-9dd8-7996183ef43a"
      },
      "execution_count": 66,
      "outputs": [
        {
          "output_type": "stream",
          "name": "stdout",
          "text": [
            "P1: murilo\n",
            "P2: miranda\n",
            "P3: correia\n",
            "P4: monitor\n",
            "P5: teclado\n",
            "P6: mouse\n",
            "P7: chiclete\n",
            "P8: valorante\n",
            "P9: samurai\n",
            "P10: joao\n",
            "Dict: {'m': ['murilo', 'miranda', 'monitor', 'mouse'], 'c': ['correia', 'chiclete'], 't': ['teclado'], 'v': ['valorante'], 's': ['samurai'], 'j': ['joao']}\n"
          ]
        }
      ]
    },
    {
      "cell_type": "code",
      "source": [
        "p = {}\n",
        "for i in range(3):\n",
        "    n = input(f\"Prod {i+1}: \")\n",
        "    v = [float(input(f\"P{j+1}: \")) for j in range(3)]\n",
        "    p[n] = v\n",
        "mv = max(p, key=lambda x: max(p[x]) - min(p[x]))\n",
        "print(\"Maior variação:\", mv)\n"
      ],
      "metadata": {
        "id": "pd_53WOOJAbV",
        "colab": {
          "base_uri": "https://localhost:8080/"
        },
        "outputId": "0d5e992c-fc5e-41c0-f00e-fb5653a25a27"
      },
      "execution_count": 67,
      "outputs": [
        {
          "output_type": "stream",
          "name": "stdout",
          "text": [
            "Prod 1: iphone 16 pro max\n",
            "P1: 10000\n",
            "P2: 9000\n",
            "P3: 8000\n",
            "Prod 2: iphone 15 pro max\n",
            "P1: 9000\n",
            "P2: 8000\n",
            "P3: 7000\n",
            "Prod 3: iphone 14 pro max\n",
            "P1: 8000\n",
            "P2: 7000\n",
            "P3: 6000\n",
            "Maior variação: iphone 16 pro max\n"
          ]
        }
      ]
    },
    {
      "cell_type": "code",
      "source": [
        "f = input(\"Frase: \").lower().split()\n",
        "d = {}\n",
        "for p in f:\n",
        "    d[p] = d.get(p, 0) + 1\n",
        "print(\"Ocorrências:\", d)\n"
      ],
      "metadata": {
        "id": "UPvnXz5MJAY-",
        "colab": {
          "base_uri": "https://localhost:8080/"
        },
        "outputId": "13723dcf-c17a-4432-c385-bfa547f4c241"
      },
      "execution_count": 68,
      "outputs": [
        {
          "output_type": "stream",
          "name": "stdout",
          "text": [
            "Frase: eu sou muito legal\n",
            "Ocorrências: {'eu': 1, 'sou': 1, 'muito': 1, 'legal': 1}\n"
          ]
        }
      ]
    }
  ]
}