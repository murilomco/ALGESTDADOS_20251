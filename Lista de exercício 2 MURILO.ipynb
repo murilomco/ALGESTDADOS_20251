{
  "nbformat": 4,
  "nbformat_minor": 0,
  "metadata": {
    "colab": {
      "provenance": [],
      "authorship_tag": "ABX9TyONC8Qxnw52UP+u9V0AXTLn",
      "include_colab_link": true
    },
    "kernelspec": {
      "name": "python3",
      "display_name": "Python 3"
    },
    "language_info": {
      "name": "python"
    }
  },
  "cells": [
    {
      "cell_type": "markdown",
      "metadata": {
        "id": "view-in-github",
        "colab_type": "text"
      },
      "source": [
        "<a href=\"https://colab.research.google.com/github/murilomco/ALGESTDADOS_20251/blob/main/Lista%20de%20exerc%C3%ADcio%202%20MURILO.ipynb\" target=\"_parent\"><img src=\"https://colab.research.google.com/assets/colab-badge.svg\" alt=\"Open In Colab\"/></a>"
      ]
    },
    {
      "cell_type": "code",
      "source": [
        "from datetime import date\n",
        "\n",
        "nasc_dia = int(input(\"Dia de nascimento: \"))\n",
        "nasc_mes = int(input(\"Mês de nascimento: \"))\n",
        "nasc_ano = int(input(\"Ano de nascimento: \"))\n",
        "hoje_dia = int(input(\"Dia atual: \"))\n",
        "hoje_mes = int(input(\"Mês atual: \"))\n",
        "hoje_ano = int(input(\"Ano atual: \"))\n",
        "\n",
        "data_nasc = date(nasc_ano, nasc_mes, nasc_dia)\n",
        "data_hoje = date(hoje_ano, hoje_mes, hoje_dia)\n",
        "\n",
        "# Diferença total em dias\n",
        "dias_totais = (data_hoje - data_nasc).days\n",
        "\n",
        "anos = dias_totais // 365\n",
        "meses = (dias_totais % 365) // 30\n",
        "dias = (dias_totais % 365) % 30\n",
        "\n",
        "print(f\"Idade: {anos} anos, {meses} meses e {dias} dias.\")\n"
      ],
      "metadata": {
        "colab": {
          "base_uri": "https://localhost:8080/"
        },
        "id": "VmoO99tFayAb",
        "outputId": "72d46d33-108f-4501-e8b8-646d12c0af5f"
      },
      "execution_count": 3,
      "outputs": [
        {
          "output_type": "stream",
          "name": "stdout",
          "text": [
            "Dia de nascimento: 06\n",
            "Mês de nascimento: 12\n",
            "Ano de nascimento: 2005\n",
            "Dia atual: 08\n",
            "Mês atual: 05\n",
            "Ano atual: 2025\n",
            "Idade: 19 anos, 5 meses e 8 dias.\n"
          ]
        }
      ]
    },
    {
      "cell_type": "code",
      "source": [
        "indice1 = float(input(\"Índice 1: \"))\n",
        "indice2 = float(input(\"Índice 2: \"))\n",
        "indice3 = float(input(\"Índice 3: \"))\n",
        "\n",
        "media = (indice1 + indice2 + indice3) / 3\n",
        "\n",
        "print(f\"Média do índice: {media:.2f}\")\n",
        "\n",
        "if media <= 50:\n",
        "    qualidade = \"Bom\"\n",
        "elif media <= 100:\n",
        "    qualidade = \"Moderado\"\n",
        "elif media <= 150:\n",
        "    qualidade = \"Ruim\"\n",
        "elif media <= 200:\n",
        "    qualidade = \"Muito ruim\"\n",
        "else:\n",
        "    qualidade = \"Péssimo\"\n",
        "\n",
        "print(f\"Qualidade do ar: {qualidade}\")\n"
      ],
      "metadata": {
        "colab": {
          "base_uri": "https://localhost:8080/"
        },
        "id": "cRi5kzAXa0Z_",
        "outputId": "69e279ff-6aee-4399-fc71-dc69c8c31c4a"
      },
      "execution_count": 4,
      "outputs": [
        {
          "output_type": "stream",
          "name": "stdout",
          "text": [
            "Índice 1: 59\n",
            "Índice 2: 199\n",
            "Índice 3: 150\n",
            "Média do índice: 136.00\n",
            "Qualidade do ar: Ruim\n"
          ]
        }
      ]
    },
    {
      "cell_type": "code",
      "source": [
        "valor_abastecido = float(input(\"Valor abastecido (R$): \"))\n",
        "preco_litro = float(input(\"Preço do litro (R$): \"))\n",
        "km_inicial = float(input(\"Quilometragem inicial: \"))\n",
        "km_final = float(input(\"Quilometragem final: \"))\n",
        "\n",
        "litros = valor_abastecido / preco_litro\n",
        "km_rodados = km_final - km_inicial\n",
        "media_km_l = km_rodados / litros\n",
        "\n",
        "print(f\"Litros abastecidos: {litros:.2f} L\")\n",
        "print(f\"Média de consumo: {media_km_l:.2f} km/L\")\n",
        "\n",
        "if media_km_l > 12:\n",
        "    desempenho = \"Bom\"\n",
        "elif 8 <= media_km_l <= 12:\n",
        "    desempenho = \"Médio\"\n",
        "else:\n",
        "    desempenho = \"Ruim\"\n",
        "\n",
        "print(f\"Desempenho: {desempenho}\")\n"
      ],
      "metadata": {
        "colab": {
          "base_uri": "https://localhost:8080/"
        },
        "id": "H-qVWdzAa20i",
        "outputId": "d2d4d6e8-596f-4728-faba-a9b05d48ed80"
      },
      "execution_count": 5,
      "outputs": [
        {
          "output_type": "stream",
          "name": "stdout",
          "text": [
            "Valor abastecido (R$): 12\n",
            "Preço do litro (R$): 13\n",
            "Quilometragem inicial: 30\n",
            "Quilometragem final: 100\n",
            "Litros abastecidos: 0.92 L\n",
            "Média de consumo: 75.83 km/L\n",
            "Desempenho: Bom\n"
          ]
        }
      ]
    },
    {
      "cell_type": "code",
      "source": [
        "nome = input(\"Nome: \")\n",
        "total_minutos = 0\n",
        "\n",
        "for i in range(1, 8):\n",
        "    minutos = int(input(f\"Minutos de atividade no dia {i}: \"))\n",
        "    total_minutos += minutos\n",
        "\n",
        "media_diaria = total_minutos / 7\n",
        "\n",
        "print(f\"{nome}, você fez um total de {total_minutos} minutos de atividade.\")\n",
        "print(f\"Média diária: {media_diaria:.2f} minutos.\")\n",
        "\n",
        "if total_minutos >= 150:\n",
        "    print(\"Você atingiu o mínimo recomendado de 150 minutos semanais!\")\n",
        "else:\n",
        "    print(\"Você NÃO atingiu o mínimo recomendado.\")\n"
      ],
      "metadata": {
        "colab": {
          "base_uri": "https://localhost:8080/"
        },
        "id": "5szM57mba5Nk",
        "outputId": "0a9140df-962f-4a80-e69f-62f068419133"
      },
      "execution_count": 6,
      "outputs": [
        {
          "output_type": "stream",
          "name": "stdout",
          "text": [
            "Nome: murilo\n",
            "Minutos de atividade no dia 1: 2\n",
            "Minutos de atividade no dia 2: 4\n",
            "Minutos de atividade no dia 3: 3\n",
            "Minutos de atividade no dia 4: 1\n",
            "Minutos de atividade no dia 5: 2\n",
            "Minutos de atividade no dia 6: 4\n",
            "Minutos de atividade no dia 7: 6\n",
            "murilo, você fez um total de 22 minutos de atividade.\n",
            "Média diária: 3.14 minutos.\n",
            "Você NÃO atingiu o mínimo recomendado.\n"
          ]
        }
      ]
    },
    {
      "cell_type": "code",
      "source": [
        "inicio = float(input(\"Leitura inicial do hidrômetro (m³): \"))\n",
        "fim = float(input(\"Leitura final do hidrômetro (m³): \"))\n",
        "\n",
        "consumo = fim - inicio\n",
        "valor = 0\n",
        "\n",
        "if consumo <= 10:\n",
        "    valor = 30.00  # Tarifa fixa\n",
        "elif consumo <= 20:\n",
        "    valor = 30.00 + (consumo - 10) * 3.00  # Faixa 11-20\n",
        "else:\n",
        "    valor = 30.00 + 10 * 3.00 + (consumo - 20) * 5.00  # Acima de 20\n",
        "\n",
        "print(f\"Consumo: {consumo} m³\")\n",
        "print(f\"Valor a pagar: R$ {valor:.2f}\")\n"
      ],
      "metadata": {
        "colab": {
          "base_uri": "https://localhost:8080/"
        },
        "id": "78jw3DGPa7-j",
        "outputId": "22d40fe0-9c23-4c52-ef08-ddf050c410b7"
      },
      "execution_count": 8,
      "outputs": [
        {
          "output_type": "stream",
          "name": "stdout",
          "text": [
            "Leitura inicial do hidrômetro (m³): 4\n",
            "Leitura final do hidrômetro (m³): 6\n",
            "Consumo: 2.0 m³\n",
            "Valor a pagar: R$ 30.00\n"
          ]
        }
      ]
    },
    {
      "cell_type": "code",
      "source": [
        "previsto_h = int(input(\"Hora prevista de chegada: \"))\n",
        "previsto_m = int(input(\"Minuto previsto: \"))\n",
        "real_h = int(input(\"Hora real de chegada: \"))\n",
        "real_m = int(input(\"Minuto real: \"))\n",
        "\n",
        "previsto_total = previsto_h * 60 + previsto_m\n",
        "real_total = real_h * 60 + real_m\n",
        "\n",
        "diferenca = real_total - previsto_total\n",
        "tempo = abs(diferenca)\n",
        "\n",
        "horas = tempo // 60\n",
        "minutos = tempo % 60\n",
        "\n",
        "if diferenca == 0:\n",
        "    print(\"Voo pontual.\")\n",
        "elif tempo <= 5:\n",
        "    print(f\"Atraso/adiantamento de {horas}h {minutos}min: Pontual.\")\n",
        "elif tempo <= 30:\n",
        "    print(f\"Atraso/adiantamento de {horas}h {minutos}min: Ligeiramente atrasado/adiantado.\")\n",
        "else:\n",
        "    print(f\"Atraso/adiantamento de {horas}h {minutos}min: Muito atrasado/adiantado.\")\n"
      ],
      "metadata": {
        "colab": {
          "base_uri": "https://localhost:8080/"
        },
        "id": "_-iVQPbca_0i",
        "outputId": "ff511eec-fdd1-4491-eb3c-4623225ca8af"
      },
      "execution_count": 9,
      "outputs": [
        {
          "output_type": "stream",
          "name": "stdout",
          "text": [
            
          ]
        }
      ]
    },
    {
      "cell_type": "code",
      "source": [
        "total_tempo = {}\n",
        "for dispositivo in [\"TV\", \"Celular\", \"Computador\"]:\n",
        "    horas = 0\n",
        "    minutos = 0\n",
        "    print(f\"{dispositivo}:\")\n",
        "    for dia in range(1, 4):\n",
        "        h = int(input(f\"  Dia {dia} - Horas: \"))\n",
        "        m = int(input(f\"  Dia {dia} - Minutos: \"))\n",
        "        horas += h\n",
        "        minutos += m\n",
        "    total_min = horas * 60 + minutos\n",
        "    total_tempo[dispositivo] = total_min\n",
        "\n",
        "# Total geral\n",
        "total_geral = sum(total_tempo.values())\n",
        "horas_totais = total_geral // 60\n",
        "minutos_totais = total_geral % 60\n",
        "\n",
        "# Dispositivo mais usado\n",
        "mais_usado = max(total_tempo, key=total_tempo.get)\n",
        "\n",
        "print(f\"Tempo total de tela: {horas_totais}h {minutos_totais}min\")\n",
        "print(f\"Dispositivo mais usado: {mais_usado}\")\n",
        "\n",
        "if total_geral / 3 > 10 * 60:\n",
        "    print(\"ALERTA: Média diária ultrapassou 10 horas!\")\n"
      ],
      "metadata": {
        "colab": {
          "base_uri": "https://localhost:8080/"
        },
        "id": "ygp96DtvbAww",
        "outputId": "40ed94b8-cc8d-4225-b5e3-0ccd15296586"
      },
      "execution_count": null,
      "outputs": [
        {
          "output_type": "stream",
          "name": "stdout",
          "text": [
            "TV:\n"
          ]
        }
      ]
    },
    {
      "cell_type": "code",
      "source": [
        "area = float(input(\"Área do plantio (m²): \"))\n",
        "tipo = input(\"Tipo da planta (cenoura/alface/couve): \").lower()\n",
        "\n",
        "if tipo == \"cenoura\":\n",
        "    rendimento_m2 = 2.5  # kg/m²\n",
        "elif tipo == \"alface\":\n",
        "    rendimento_m2 = 1.8\n",
        "elif tipo == \"couve\":\n",
        "    rendimento_m2 = 2.0\n",
        "else:\n",
        "    print(\"Tipo inválido!\")\n",
        "    rendimento_m2 = 0\n",
        "\n",
        "producao = area * rendimento_m2\n",
        "print(f\"Produção esperada: {producao:.2f} kg\")\n",
        "\n",
        "if producao >= 100:\n",
        "    print(\"Suficiente para abastecer o mercado local.\")\n",
        "else:\n",
        "    print(\"Produção insuficiente para abastecer o mercado local.\")\n"
      ],
      "metadata": {
        "id": "gXooMCdIbDD0"
      },
      "execution_count": null,
      "outputs": []
    },
    {
      "cell_type": "code",
      "source": [
        "paginas = int(input(\"Total de páginas do livro: \"))\n",
        "tempo_diario = int(input(\"Tempo disponível por dia (minutos): \"))\n",
        "velocidade = float(input(\"Velocidade de leitura (páginas por minuto): \"))\n",
        "\n",
        "paginas_por_dia = tempo_diario * velocidade\n",
        "dias_necessarios = paginas / paginas_por_dia\n",
        "\n",
        "print(f\"Você levará aproximadamente {dias_necessarios:.1f} dias para terminar o livro.\")\n",
        "print(f\"Plano diário sugerido: {int(paginas_por_dia)} páginas por dia.\")\n"
      ],
      "metadata": {
        "id": "A8To8pagbFP7"
      },
      "execution_count": null,
      "outputs": []
    },
    {
      "cell_type": "code",
      "source": [
        "num_pessoas = int(input(\"Número de pessoas na frente: \"))\n",
        "tempo_por_pessoa = int(input(\"Tempo médio por pessoa (minutos): \"))\n",
        "\n",
        "tempo_total = num_pessoas * tempo_por_pessoa\n",
        "horas = tempo_total // 60\n",
        "minutos = tempo_total % 60\n",
        "\n",
        "print(f\"Tempo estimado de espera: {horas}h {minutos}min\")\n",
        "\n",
        "if tempo_total > 60:\n",
        "    print(\"Sugestão: Melhor voltar depois.\")\n",
        "else:\n",
        "    print(\"Aguarde na fila.\")\n"
      ],
      "metadata": {
        "id": "8aumN61qbHJ4"
      },
      "execution_count": null,
      "outputs": []
    },
    {
      "cell_type": "code",
      "source": [
        "from datetime import datetime, timedelta\n",
        "\n",
        "fab_data = input(\"Data de fabricação (dd/mm/aaaa): \")\n",
        "validade_dias = int(input(\"Validade (em dias): \"))\n",
        "\n",
        "dia, mes, ano = map(int, fab_data.split(\"/\"))\n",
        "data_fab = datetime(ano, mes, dia)\n",
        "data_venc = data_fab + timedelta(days=validade_dias)\n",
        "\n",
        "hoje = datetime.now()\n",
        "dias_restantes = (data_venc - hoje).days\n",
        "\n",
        "if dias_restantes < 0:\n",
        "    print(\"Produto VENCIDO!\")\n",
        "elif dias_restantes < 5:\n",
        "    print(f\"Alerta: Vence em {dias_restantes} dias!\")\n",
        "else:\n",
        "    print(f\"Produto válido por mais {dias_restantes} dias.\")\n"
      ],
      "metadata": {
        "id": "dOEjB9iPhqdv"
      },
      "execution_count": null,
      "outputs": []
    },
    {
      "cell_type": "code",
      "source": [
        "from datetime import date\n",
        "\n",
        "evento_dia = int(input(\"Dia do evento: \"))\n",
        "evento_mes = int(input(\"Mês do evento: \"))\n",
        "evento_ano = int(input(\"Ano do evento: \"))\n",
        "\n",
        "hoje = date.today()\n",
        "evento = date(evento_ano, evento_mes, evento_dia)\n",
        "\n",
        "dif = (evento - hoje).days\n",
        "\n",
        "if dif > 0:\n",
        "    print(f\"Faltam {dif} dias para o evento.\")\n",
        "elif dif == 0:\n",
        "    print(\"O evento é hoje!\")\n",
        "else:\n",
        "    print(\"O evento já passou.\")\n"
      ],
      "metadata": {
        "id": "RhZQ7TCthsmR"
      },
      "execution_count": null,
      "outputs": []
    },
    {
      "cell_type": "code",
      "source": [
        "idade = int(input(\"Idade da criança: \"))\n",
        "tempo_uso = int(input(\"Tempo de uso diário (em minutos): \"))\n",
        "\n",
        "if idade < 2:\n",
        "    limite = 0\n",
        "elif idade < 5:\n",
        "    limite = 60\n",
        "else:\n",
        "    limite = 120\n",
        "\n",
        "if tempo_uso <= limite:\n",
        "    print(\"Uso ADEQUADO.\")\n",
        "else:\n",
        "    print(\"Uso EXAGERADO segundo a OMS.\")\n"
      ],
      "metadata": {
        "id": "kkOKyjQbhyNn"
      },
      "execution_count": null,
      "outputs": []
    },
    {
      "cell_type": "code",
      "source": [
        "saida_h = int(input(\"Hora de saída: \"))\n",
        "saida_m = int(input(\"Minuto de saída: \"))\n",
        "tempo_voo = int(input(\"Tempo de voo (em minutos): \"))\n",
        "tempo_escalas = int(input(\"Tempo total das escalas (em minutos): \"))\n",
        "\n",
        "total_min = tempo_voo + tempo_escalas\n",
        "hora_chegada = (saida_h * 60 + saída_m + total_min) // 60\n",
        "min_chegada = (saida_h * 60 + saída_m + total_min) % 60\n",
        "\n",
        "print(f\"Chegada prevista: {hora_chegada % 24}h {min_chegada}min\")\n",
        "print(f\"Duração total: {total_min // 60}h {total_min % 60}min\")\n"
      ],
      "metadata": {
        "id": "iXslkGXPhyMY"
      },
      "execution_count": null,
      "outputs": []
    },
    {
      "cell_type": "code",
      "source": [
        "valor = float(input(\"Valor da compra (R$): \"))\n",
        "\n",
        "if valor <= 100:\n",
        "    desconto = 0.05\n",
        "elif valor <= 200:\n",
        "    desconto = 0.10\n",
        "else:\n",
        "    desconto = 0.15\n",
        "\n",
        "valor_desc = valor * (1 - desconto)\n",
        "economia = valor - valor_desc\n",
        "\n",
        "print(f\"Valor com desconto: R$ {valor_desc:.2f}\")\n",
        "print(f\"Você economizou: R$ {economia:.2f}\")\n"
      ],
      "metadata": {
        "id": "uh5yiJknh34u"
      },
      "execution_count": null,
      "outputs": []
    },
    {
      "cell_type": "code",
      "source": [
        "idade = int(input(\"Sua idade atual: \"))\n",
        "tempo_habito = int(input(\"Anos mantendo hábitos saudáveis: \"))\n",
        "\n",
        "if tempo_habito < 2:\n",
        "    ganho = 1\n",
        "elif tempo_habito < 5:\n",
        "    ganho = 3\n",
        "else:\n",
        "    ganho = 5\n",
        "\n",
        "print(f\"Expectativa de vida aumentada em cerca de {ganho} anos!\")\n"
      ],
      "metadata": {
        "id": "z3Hhej35h52u"
      },
      "execution_count": null,
      "outputs": []
    },
    {
      "cell_type": "code",
      "source": [
        "acordar_h = int(input(\"Hora que precisa acordar: \"))\n",
        "acordar_m = int(input(\"Minuto: \"))\n",
        "\n",
        "total_min = acordar_h * 60 + acordar_m\n",
        "\n",
        "print(\"Sugestões de horário para dormir:\")\n",
        "for ciclos in [6, 5, 4]:  # ciclos de 90 minutos\n",
        "    dormir_min = total_min - (ciclos * 90)\n",
        "    h = (dormir_min // 60) % 24\n",
        "    m = dormir_min % 60\n",
        "    print(f\"- {h:02d}:{m:02d}\")\n"
      ],
      "metadata": {
        "id": "D00quQESh8an"
      },
      "execution_count": null,
      "outputs": []
    },
    {
      "cell_type": "code",
      "source": [
        "passos_por_min = int(input(\"Passos por minuto: \"))\n",
        "tempo_min = int(input(\"Tempo de caminhada (minutos): \"))\n",
        "\n",
        "total_passos = passos_por_min * tempo_min\n",
        "km = total_passos / 1300\n",
        "calorias = km * 50  # estimativa\n",
        "\n",
        "print(f\"Distância percorrida: {km:.2f} km\")\n",
        "print(f\"Calorias gastas: {calorias:.2f} kcal\")\n"
      ],
      "metadata": {
        "id": "-Qx1JL0Jh-mP"
      },
      "execution_count": null,
      "outputs": []
    },
    {
      "cell_type": "code",
      "source": [
        "from datetime import datetime\n",
        "\n",
        "hora_atual = input(\"Hora atual (HH:MM): \")\n",
        "h, m = map(int, hora_atual.split(\":\"))\n",
        "atual = h * 60 + m\n",
        "por_sol = 18 * 60\n",
        "\n",
        "if atual < por_sol:\n",
        "    restante = por_sol - atual\n",
        "    print(f\"Faltam {restante // 60}h {restante % 60}min para o pôr do sol.\")\n",
        "else:\n",
        "    print(\"O sol já se pôs.\")\n"
      ],
      "metadata": {
        "id": "prrFsptXiAPq"
      },
      "execution_count": null,
      "outputs": []
    },
    {
      "cell_type": "code",
      "source": [
        "entrada = int(input(\"Tempo da entrada (min): \"))\n",
        "principal = int(input(\"Tempo do prato principal (min): \"))\n",
        "sobremesa = int(input(\"Tempo da sobremesa (min): \"))\n",
        "\n",
        "total = entrada + principal + sobremesa\n",
        "\n",
        "print(f\"Tempo total: {total} minutos\")\n",
        "\n",
        "if entrada + sobremesa < principal:\n",
        "    print(\"Sugestão: Prepare entrada e sobremesa enquanto faz o principal.\")\n",
        "else:\n",
        "    print(\"Siga a ordem padrão de preparo.\")\n"
      ],
      "metadata": {
        "id": "EOHq8g2_iBYw"
      },
      "execution_count": null,
      "outputs": []
    },
    {
      "cell_type": "code",
      "source": [
        "distancia = float(input(\"Distância (km): \"))\n",
        "parada_min = int(input(\"Tempo de parada (minutos): \"))\n",
        "vel_media = float(input(\"Velocidade média (km/h): \"))\n",
        "\n",
        "tempo_ida = distancia / vel_media * 60\n",
        "tempo_volta = tempo_ida\n",
        "total_jornada = tempo_ida + parada_min + tempo_volta\n",
        "\n",
        "print(f\"Tempo total da jornada: {total_jornada // 60:.0f}h {total_jornada % 60:.0f}min\")\n",
        "print(f\"Tempo disponível para descanso: {parada_min} minutos.\")\n"
      ],
      "metadata": {
        "id": "iE6MPPwMiC4F"
      },
      "execution_count": null,
      "outputs": []
    },
    {
      "cell_type": "code",
      "source": [
        "from datetime import datetime\n",
        "\n",
        "agora = datetime.now()\n",
        "ano_novo = datetime(agora.year + 1, 1, 1)\n",
        "\n",
        "segundos_faltam = int((ano_novo - agora).total_seconds())\n",
        "print(f\"Faltam {segundos_faltam} segundos para o Ano Novo!\")\n"
      ],
      "metadata": {
        "id": "Anxzy-dviEFI"
      },
      "execution_count": null,
      "outputs": []
    },
    {
      "cell_type": "code",
      "source": [
        "temps = []\n",
        "alerta = False\n",
        "\n",
        "for dia in range(1, 6):\n",
        "    t_manha = float(input(f\"Dia {dia} - Manhã: \"))\n",
        "    t_tarde = float(input(f\"Dia {dia} - Tarde: \"))\n",
        "    t_noite = float(input(f\"Dia {dia} - Noite: \"))\n",
        "    temps += [t_manha, t_tarde, t_noite]\n",
        "    if t_manha > 35 and t_tarde > 35:\n",
        "        alerta = True\n",
        "\n",
        "print(f\"Maior temperatura: {max(temps)}\")\n",
        "print(f\"Menor temperatura: {min(temps)}\")\n",
        "print(f\"Média geral: {sum(temps)/len(temps):.2f}\")\n",
        "\n",
        "if alerta:\n",
        "    print(\"Risco de insolação detectado!\")\n"
      ],
      "metadata": {
        "id": "-_EJ1aeciFZL"
      },
      "execution_count": null,
      "outputs": []
    },
    {
      "cell_type": "code",
      "source": [
        "dias = int(input(\"Quantos dias pedalou? \"))\n",
        "maior = 0\n",
        "total = 0\n",
        "\n",
        "for i in range(1, dias + 1):\n",
        "    vel = float(input(f\"Dia {i} - Velocidade média (km/h): \"))\n",
        "    tempo = float(input(f\"Dia {i} - Tempo de pedalada (h): \"))\n",
        "    distancia = vel * tempo\n",
        "    total += distancia\n",
        "    if distancia > maior:\n",
        "        maior = distancia\n",
        "\n",
        "print(f\"Distância total: {total:.2f} km\")\n",
        "print(f\"Maior rendimento em um dia: {maior:.2f} km\")\n"
      ],
      "metadata": {
        "id": "ruMxlcn3iHAZ"
      },
      "execution_count": null,
      "outputs": []
    },
    {
      "cell_type": "code",
      "source": [
        "total = 0\n",
        "\n",
        "for i in range(1, 4):\n",
        "    pot = float(input(f\"Aparelho {i} - Potência (W): \"))\n",
        "    horas = float(input(f\"Aparelho {i} - Horas de uso diário: \"))\n",
        "    consumo = (pot * horas * 30) / 1000  # kWh\n",
        "    print(f\"Aparelho {i} consome {consumo:.2f} kWh/mês\")\n",
        "    total += consumo\n",
        "\n",
        "print(f\"Consumo total: {total:.2f} kWh/mês\")\n"
      ],
      "metadata": {
        "id": "dXkiYOVLiKTw"
      },
      "execution_count": null,
      "outputs": []
    },
    {
      "cell_type": "code",
      "source": [
        "hora = int(input(\"Hora da dose: \"))\n",
        "minuto = int(input(\"Minuto: \"))\n",
        "\n",
        "for i in range(1, 4):\n",
        "    proxima = (hora * 60 + minuto) + i * 480  # 8h = 480 min\n",
        "    h = (proxima // 60) % 24\n",
        "    m = proxima % 60\n",
        "    print(f\"Dose {i + 1}: {h:02d}:{m:02d}\")\n"
      ],
      "metadata": {
        "id": "bAGJMCWMiLTr"
      },
      "execution_count": null,
      "outputs": []
    },
    {
      "cell_type": "code",
      "source": [
        "hora_atual = int(input(\"Hora atual: \"))\n",
        "minuto_atual = int(input(\"Minuto atual: \"))\n",
        "\n",
        "atual = hora_atual * 60 + minuto_atual\n",
        "inicio = 20 * 60\n",
        "\n",
        "if atual < inicio:\n",
        "    falta = inicio - atual\n",
        "    print(f\"Faltam {falta // 60}h {falta % 60}min para o início do filme.\")\n",
        "elif atual < inicio + 120:\n",
        "    perdeu = atual - inicio\n",
        "    print(f\"Você já perdeu {perdeu // 60}h {perdeu % 60}min do filme.\")\n",
        "else:\n",
        "    print(\"O filme já terminou.\")\n"
      ],
      "metadata": {
        "id": "xllKhpO-iL6Q"
      },
      "execution_count": null,
      "outputs": []
    },
    {
      "cell_type": "code",
      "source": [
        "horas_semana = float(input(\"Horas disponíveis na semana: \"))\n",
        "num_disciplinas = int(input(\"Número de disciplinas: \"))\n",
        "\n",
        "horas_por_disciplina = horas_semana / num_disciplinas\n",
        "\n",
        "print(f\"Cada disciplina deve ter {horas_por_disciplina:.2f}h semanais.\")\n",
        "\n",
        "if horas_por_disciplina < 1:\n",
        "    print(\"Alerta: Alguma matéria terá menos de 1h de estudo!\")\n"
      ],
      "metadata": {
        "id": "L5jJMlL5iPeb"
      },
      "execution_count": null,
      "outputs": []
    },
    {
      "cell_type": "code",
      "source": [
        "produtividade = []\n",
        "alerta = False\n",
        "\n",
        "for dia in range(1, 6):\n",
        "    tarefas = int(input(f\"Dia {dia} - Tarefas concluídas: \"))\n",
        "    produtividade.append(tarefas)\n",
        "\n",
        "for i in range(1, 5):\n",
        "    if produtividade[i] < produtividade[i - 1]:\n",
        "        if i > 1 and produtividade[i - 1] < produtividade[i - 2]:\n",
        "            alerta = True\n",
        "\n",
        "media = sum(produtividade) / 5\n",
        "print(f\"Média de produtividade: {media:.2f} tarefas/dia.\")\n",
        "\n",
        "if alerta:\n",
        "    print(\"Alerta: Produtividade caiu por 2 dias consecutivos!\")\n"
      ],
      "metadata": {
        "id": "X3maXpRSiQyb"
      },
      "execution_count": null,
      "outputs": []
    }
  ]
}
